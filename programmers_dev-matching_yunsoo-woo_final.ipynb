{
 "cells": [
  {
   "cell_type": "code",
   "execution_count": 1,
   "id": "32954d77",
   "metadata": {},
   "outputs": [],
   "source": [
    "import torch\n",
    "import torch.nn as nn\n",
    "import torch.optim as optim\n",
    "from torch.nn.utils.rnn import pad_sequence\n",
    "from torch.utils.data import Dataset, DataLoader, TensorDataset\n",
    "\n",
    "from sklearn.preprocessing import LabelEncoder\n",
    "from sklearn.metrics import f1_score, classification_report, log_loss\n",
    "from sklearn.utils import resample\n",
    "\n",
    "import random\n",
    "import pandas as pd\n",
    "import numpy as np\n",
    "import os\n",
    "import time\n",
    "\n",
    "from tqdm import tqdm\n",
    "import matplotlib.pyplot as plt"
   ]
  },
  {
   "cell_type": "code",
   "execution_count": 39,
   "id": "941183d3",
   "metadata": {
    "scrolled": false
   },
   "outputs": [
    {
     "name": "stdout",
     "output_type": "stream",
     "text": [
      "cuda:0\n"
     ]
    }
   ],
   "source": [
    "device = 'cuda:0' if torch.cuda.is_available() else 'cpu'\n",
    "print(device)"
   ]
  },
  {
   "cell_type": "markdown",
   "id": "f9327827",
   "metadata": {},
   "source": [
    "## visualization"
   ]
  },
  {
   "cell_type": "code",
   "execution_count": 95,
   "id": "5e6af39d",
   "metadata": {
    "scrolled": false
   },
   "outputs": [
    {
     "data": {
      "text/plain": [
       "<BarContainer object of 15 artists>"
      ]
     },
     "execution_count": 95,
     "metadata": {},
     "output_type": "execute_result"
    },
    {
     "data": {
      "image/png": "[encoded data removed]",
      "text/plain": [
       "<Figure size 432x288 with 1 Axes>"
      ]
     },
     "metadata": {
      "needs_background": "light"
     },
     "output_type": "display_data"
    }
   ],
   "source": [
    "size0 = []\n",
    "for i in range(16):\n",
    "    if i == 10: \n",
    "        continue\n",
    "    size0.append(len(os.listdir(f'dataset0/train/class{i}'))) \n",
    "    \n",
    "plt.bar(np.arange(15), size0)"
   ]
  },
  {
   "cell_type": "code",
   "execution_count": 84,
   "id": "de0a6170",
   "metadata": {},
   "outputs": [
    {
     "data": {
      "text/plain": [
       "<BarContainer object of 11 artists>"
      ]
     },
     "execution_count": 84,
     "metadata": {},
     "output_type": "execute_result"
    },
    {
     "data": {
      "image/png": "[encoded data removed]",
      "text/plain": [
       "<Figure size 432x288 with 1 Axes>"
      ]
     },
     "metadata": {
      "needs_background": "light"
     },
     "output_type": "display_data"
    }
   ],
   "source": [
    "size1 = []\n",
    "for i in range(11):\n",
    "    size1.append(len(os.listdir(f'dataset1/train/class{i}'))) \n",
    "    \n",
    "plt.bar(np.arange(11), size1)"
   ]
  },
  {
   "cell_type": "markdown",
   "id": "dc52b643",
   "metadata": {},
   "source": [
    "# set data\n",
    "- dataset1 의 전이 학습을 위해 train/validation split"
   ]
  },
  {
   "cell_type": "code",
   "execution_count": 85,
   "id": "12c1dfbe",
   "metadata": {},
   "outputs": [
    {
     "name": "stdout",
     "output_type": "stream",
     "text": [
      "['class0' 'class1' 'class11' 'class12' 'class13' 'class14' 'class15'\n",
      " 'class2' 'class3' 'class4' 'class5' 'class6' 'class7' 'class8' 'class9']\n",
      "['class0' 'class1' 'class10' 'class2' 'class3' 'class4' 'class5' 'class6'\n",
      " 'class7' 'class8' 'class9']\n"
     ]
    }
   ],
   "source": [
    "dataset0_classes = os.listdir('dataset0/train/')\n",
    "dataset0_label_encoder = LabelEncoder()\n",
    "\n",
    "dataset0_label_encoder.fit(dataset0_classes)\n",
    "print(dataset0_label_encoder.classes_)\n",
    "\n",
    "dataset1_classes = os.listdir('dataset1/train/')\n",
    "dataset1_label_encoder = LabelEncoder()\n",
    "\n",
    "dataset1_label_encoder.fit(dataset1_classes)\n",
    "print(dataset1_label_encoder.classes_)"
   ]
  },
  {
   "cell_type": "code",
   "execution_count": 86,
   "id": "866e6cf4",
   "metadata": {},
   "outputs": [],
   "source": [
    "dataset0_dir = 'dataset0/'\n",
    "dataset1_dir = 'dataset1/'\n",
    "\n",
    "dataset0_train_dir = dataset0_dir + 'train/'\n",
    "dataset0_test_dir = dataset0_dir + 'test/'\n",
    "\n",
    "dataset1_train_dir = dataset1_dir + 'train/'\n",
    "dataset1_val_dir = dataset1_dir + 'val/'\n",
    "dataset1_test_dir = dataset1_dir + 'test/'"
   ]
  },
  {
   "cell_type": "code",
   "execution_count": 87,
   "id": "e39c5a6a",
   "metadata": {
    "scrolled": true
   },
   "outputs": [],
   "source": [
    "# split train/val for dataset1\n",
    "\n",
    "os.mkdir(dataset1_val_dir)\n",
    "for cls in dataset1_classes:\n",
    "    os.mkdir(os.path.join(dataset1_val_dir, cls))\n",
    "    \n",
    "for i in range(11):\n",
    "    num_ratio = int(0.2 * len(os.listdir(f'dataset1/train/class{i}')))\n",
    "    mv_files = random.sample(os.listdir(f'dataset1/train/class{i}'), num_ratio)\n",
    "    for mf in mv_files:\n",
    "        os.rename(f'dataset1/train/class{i}/{mf}', f'dataset1/val/class{i}/{mf}')"
   ]
  },
  {
   "cell_type": "markdown",
   "id": "4d245373",
   "metadata": {},
   "source": [
    "directory structure"
   ]
  },
  {
   "cell_type": "markdown",
   "id": "ae5dd391",
   "metadata": {},
   "source": [
    "```\n",
    "main/\n",
    "|-- programmers_dev-matching_yunsoo-woo_final.ipynb\n",
    "|-- dataset0/\n",
    "|   |-- train/\n",
    "|   |   |-- class0/\n",
    "|   |   |   |-- 0.csv\n",
    "|   |   |   |-- 1.csv\n",
    "|   |   |   |-- ...\n",
    "|   |   |-- class1/\n",
    "|   |   |-- ...\n",
    "|   |   |-- class15/\n",
    "|   |-- test/\n",
    "|   |   |-- class0/\n",
    "|   |   |-- class1/\n",
    "|   |   |-- ...\n",
    "|   |   |-- class15/\n",
    "|-- dataset1/\n",
    "|   |-- train/\n",
    "|   |   |-- class0/\n",
    "|   |   |   |-- 0.csv\n",
    "|   |   |   |-- 1.csv\n",
    "|   |   |   |-- ...\n",
    "|   |   |-- class1/\n",
    "|   |   |-- ...\n",
    "|   |   |-- class15/\n",
    "|   |-- val/\n",
    "|   |   |-- class0/\n",
    "|   |   |-- class1/\n",
    "|   |   |-- ...\n",
    "|   |   |-- class15/\n",
    "|   |-- test/\n",
    "|   |   |-- 103.csv\n",
    "|   |   |-- ...\n",
    "|   |   |-- 869.csv\n",
    "```"
   ]
  },
  {
   "cell_type": "markdown",
   "id": "eeb3eac4",
   "metadata": {},
   "source": [
    "# DataLoader"
   ]
  },
  {
   "cell_type": "code",
   "execution_count": 262,
   "id": "d956b4a6",
   "metadata": {},
   "outputs": [],
   "source": [
    "# 가장 개수가 많은 label 데이터에 대해 over-sampling\n",
    "# augmentation은 training 데이터에만 적용\n",
    "\n",
    "def create_dataset_resampled(dataset_dir):\n",
    "    X, y = [], []\n",
    "    labels = os.listdir(dataset_dir)\n",
    "    labels = sorted(labels)\n",
    "    for label in labels:\n",
    "        file_list = os.listdir(dataset_dir + label + '/')\n",
    "        for f in file_list:\n",
    "            temp = pd.read_csv(dataset_dir + label + '/' + f)\n",
    "            X.append(torch.from_numpy(temp.values))\n",
    "            \n",
    "    new_X = []\n",
    "    length = [len(os.listdir(dataset_dir + label + '/')) for label in labels]\n",
    "    n_samples = max(length)\n",
    "    max_idex = length.index(n_samples)\n",
    "    length.insert(0, 0)\n",
    "    for r in range(len(labels)):\n",
    "        start = length[r]\n",
    "        end = start + length[r+1]\n",
    "        if r == max_idex:\n",
    "            new_X += X[start:end]\n",
    "        else:\n",
    "            new_X += resample(X[start:end], n_samples=n_samples)\n",
    "    X = pad_sequence(new_X, batch_first=True) # B x T x *\n",
    "    \n",
    "    y = []\n",
    "    for label in labels:\n",
    "        for d in range(n_samples):\n",
    "            y.append(label)\n",
    "            \n",
    "    return X, y"
   ]
  },
  {
   "cell_type": "code",
   "execution_count": 45,
   "id": "40d7b9b8",
   "metadata": {},
   "outputs": [],
   "source": [
    "def create_dataset(dataset_dir):\n",
    "    X, y = [], []\n",
    "    labels = os.listdir(dataset_dir)\n",
    "    for label in labels:\n",
    "        file_list = os.listdir(dataset_dir + label + '/')\n",
    "        for f in file_list:\n",
    "            temp = pd.read_csv(dataset_dir + label + '/' + f)\n",
    "            X.append(torch.from_numpy(temp.values))\n",
    "            y.append(label)\n",
    "    X = pad_sequence(X, batch_first=True) # B x T x *\n",
    "    return X, y"
   ]
  },
  {
   "cell_type": "code",
   "execution_count": 269,
   "id": "9b907549",
   "metadata": {},
   "outputs": [
    {
     "name": "stderr",
     "output_type": "stream",
     "text": [
      "/home/bernice/miniconda3/envs/romp-env/lib/python3.7/site-packages/ipykernel_launcher.py:7: UserWarning: To copy construct from a tensor, it is recommended to use sourceTensor.clone().detach() or sourceTensor.clone().detach().requires_grad_(True), rather than torch.tensor(sourceTensor).\n",
      "  import sys\n",
      "/home/bernice/miniconda3/envs/romp-env/lib/python3.7/site-packages/ipykernel_launcher.py:8: UserWarning: To copy construct from a tensor, it is recommended to use sourceTensor.clone().detach() or sourceTensor.clone().detach().requires_grad_(True), rather than torch.tensor(sourceTensor).\n",
      "  \n"
     ]
    }
   ],
   "source": [
    "dataset0_X_train, dataset0_y_train = create_dataset(dataset0_train_dir)\n",
    "dataset0_y_train = dataset0_label_encoder.transform(dataset0_y_train)\n",
    "\n",
    "dataset0_X_test, dataset0_y_test = create_dataset(dataset0_test_dir)\n",
    "dataset0_y_test = dataset0_label_encoder.transform(dataset0_y_test)\n",
    "\n",
    "dataset0_train_dataset = TensorDataset(torch.tensor(dataset0_X_train).float(), torch.from_numpy(dataset0_y_train))\n",
    "dataset0_test_dataset = TensorDataset(torch.tensor(dataset0_X_test).float(), torch.from_numpy(dataset0_y_test))\n",
    "\n",
    "dataset0_train_dataloader = DataLoader(dataset0_train_dataset,\n",
    "                                       batch_size=batch_size)\n",
    "dataset0_test_dataloader= DataLoader(dataset0_test_dataset,\n",
    "                                     batch_size=batch_size)"
   ]
  },
  {
   "cell_type": "code",
   "execution_count": 270,
   "id": "d8f3df7b",
   "metadata": {},
   "outputs": [
    {
     "name": "stderr",
     "output_type": "stream",
     "text": [
      "/home/bernice/miniconda3/envs/romp-env/lib/python3.7/site-packages/ipykernel_launcher.py:8: UserWarning: To copy construct from a tensor, it is recommended to use sourceTensor.clone().detach() or sourceTensor.clone().detach().requires_grad_(True), rather than torch.tensor(sourceTensor).\n",
      "  \n",
      "/home/bernice/miniconda3/envs/romp-env/lib/python3.7/site-packages/ipykernel_launcher.py:12: UserWarning: To copy construct from a tensor, it is recommended to use sourceTensor.clone().detach() or sourceTensor.clone().detach().requires_grad_(True), rather than torch.tensor(sourceTensor).\n",
      "  if sys.path[0] == '':\n"
     ]
    }
   ],
   "source": [
    "dataset1_X_train, dataset1_y_train = create_dataset(dataset1_train_dir)\n",
    "dataset1_y_train = dataset1_label_encoder.transform(dataset1_y_train)\n",
    "\n",
    "dataset1_X_val, dataset1_y_val = create_dataset(dataset1_val_dir)\n",
    "dataset1_y_val = dataset1_label_encoder.transform(dataset1_y_val)\n",
    "\n",
    "dataset1_train_dataset = TensorDataset(torch.tensor(dataset1_X_train).float(), torch.from_numpy(dataset1_y_train))\n",
    "dataset1_train_dataloader = DataLoader(dataset1_train_dataset,\n",
    "                                       batch_size=batch_size)\n",
    "\n",
    "dataset1_val_dataset = TensorDataset(torch.tensor(dataset1_X_val).float(), torch.from_numpy(dataset1_y_val))\n",
    "dataset1_val_dataloader = DataLoader(dataset1_val_dataset,\n",
    "                                       batch_size=batch_size)"
   ]
  },
  {
   "cell_type": "code",
   "execution_count": 271,
   "id": "8695c11c",
   "metadata": {
    "scrolled": true
   },
   "outputs": [
    {
     "name": "stderr",
     "output_type": "stream",
     "text": [
      "/home/bernice/miniconda3/envs/romp-env/lib/python3.7/site-packages/ipykernel_launcher.py:8: UserWarning: To copy construct from a tensor, it is recommended to use sourceTensor.clone().detach() or sourceTensor.clone().detach().requires_grad_(True), rather than torch.tensor(sourceTensor).\n",
      "  \n"
     ]
    }
   ],
   "source": [
    "dataset1_test_X = []\n",
    "test_list = os.listdir(dataset1_test_dir)\n",
    "for f in test_list:\n",
    "    temp = pd.read_csv(dataset1_test_dir + f)\n",
    "    dataset1_test_X.append(torch.from_numpy(temp.values))\n",
    "\n",
    "dataset1_test_X = pad_sequence(dataset1_test_X, batch_first=True)\n",
    "dataset1_test_dataset = TensorDataset(torch.tensor(dataset1_test_X, device='cuda:0'))\n",
    "dataset1_test_dataloader = DataLoader(dataset1_test_dataset, batch_size=batch_size, shuffle=False)"
   ]
  },
  {
   "cell_type": "markdown",
   "id": "a4810f46",
   "metadata": {},
   "source": [
    "# define Model"
   ]
  },
  {
   "cell_type": "markdown",
   "id": "5007b11a",
   "metadata": {},
   "source": [
    "`GRU 모델`\n",
    "- 입력과 출력을 연속된 단위로 처리하는 순환 신경망 모델. 이전 출력값이 다음 입력으로 연결되기 때문에 시계열 데이터에 적합하다.\n",
    "- 2014년에 발표된 GRU 모델은 출력 게이트를 생략해 간결한 구조를 가진다.\n",
    "\n",
    "`custom`\n",
    "- 3-stacked GRU + linear layer"
   ]
  },
  {
   "cell_type": "code",
   "execution_count": 272,
   "id": "21b5ef03",
   "metadata": {},
   "outputs": [
    {
     "name": "stdout",
     "output_type": "stream",
     "text": [
      "MyGRU(\n",
      "  (gru): GRU(6, 300, num_layers=3, batch_first=True)\n",
      "  (relu): ReLU()\n",
      "  (linear1): Linear(in_features=300, out_features=128, bias=True)\n",
      "  (linear2): Linear(in_features=128, out_features=15, bias=True)\n",
      "  (dropout): Dropout(p=0.3, inplace=False)\n",
      ")\n"
     ]
    }
   ],
   "source": [
    "batch_size = 256\n",
    "lr = 0.0001\n",
    "epochs = 500\n",
    "\n",
    "class MyGRU(nn.Module):\n",
    "    def __init__(self, nfea, nhid, nlabel, out_dropout):\n",
    "        super(MyGRU, self).__init__()\n",
    "        self.gru = torch.nn.GRU(nfea, nhid, num_layers=3, batch_first=True)\n",
    "        self.relu = nn.ReLU()\n",
    "        self.linear1 = nn.Linear(nhid, 128)\n",
    "        self.linear2 = nn.Linear(128, nlabel)\n",
    "        self.dropout = nn.Dropout(out_dropout)\n",
    "\n",
    "        \n",
    "    def forward(self, x):\n",
    "        bsz, time, features = x.shape \n",
    "        x, _ = self.gru(x.view(bsz, time, features))\n",
    "        x = self.dropout(self.linear1(self.relu(x[:,-1,:])))\n",
    "        output = self.linear2(self.relu(x))\n",
    "        return output\n",
    "\n",
    "nfea = 6\n",
    "nhid = 300\n",
    "nlabel = 15\n",
    "dropout = 0.3\n",
    "\n",
    "model = MyGRU(nfea, nhid, nlabel, dropout).to(device)\n",
    "print(model)"
   ]
  },
  {
   "cell_type": "code",
   "execution_count": 273,
   "id": "7ad0d35e",
   "metadata": {},
   "outputs": [],
   "source": [
    "import torch.nn.init as init\n",
    "\n",
    "for param in model.parameters():\n",
    "    if len(param.shape) >= 2:\n",
    "        init.orthogonal_(param.data)\n",
    "    else:\n",
    "        init.normal_(param.data)"
   ]
  },
  {
   "cell_type": "code",
   "execution_count": 274,
   "id": "ddbc0fad",
   "metadata": {
    "scrolled": true
   },
   "outputs": [
    {
     "name": "stderr",
     "output_type": "stream",
     "text": [
      "100%|██████████| 206/206 [00:27<00:00,  7.43batch/s, train_acc=0.0646, train_logloss=3.67, train_loss=3.64]\n",
      "Valid Epoch 0: 100%|██████████| 28/28 [00:01<00:00, 25.47batch/s, valid_acc=0.0766, valid_logloss=2.77, valid_loss=4.41]\n"
     ]
    },
    {
     "name": "stdout",
     "output_type": "stream",
     "text": [
      "\n",
      "BEST VALID LOSS : 4.40536\n"
     ]
    },
    {
     "name": "stderr",
     "output_type": "stream",
     "text": [
      "100%|██████████| 206/206 [00:27<00:00,  7.57batch/s, train_acc=0.0481, train_logloss=3.28, train_loss=3.29]\n",
      "Valid Epoch 1: 100%|██████████| 28/28 [00:01<00:00, 26.41batch/s, valid_acc=0.0766, valid_logloss=2.74, valid_loss=3.72]\n"
     ]
    },
    {
     "name": "stdout",
     "output_type": "stream",
     "text": [
      "\n",
      "BEST VALID LOSS : 3.71708\n"
     ]
    },
    {
     "name": "stderr",
     "output_type": "stream",
     "text": [
      "100%|██████████| 206/206 [00:27<00:00,  7.59batch/s, train_acc=0.0257, train_logloss=3.2, train_loss=2.71] \n",
      "Valid Epoch 2: 100%|██████████| 28/28 [00:01<00:00, 26.21batch/s, valid_acc=0.0766, valid_logloss=2.83, valid_loss=3.34]\n"
     ]
    },
    {
     "name": "stdout",
     "output_type": "stream",
     "text": [
      "\n",
      "BEST VALID LOSS : 3.33816\n"
     ]
    },
    {
     "name": "stderr",
     "output_type": "stream",
     "text": [
      "100%|██████████| 206/206 [00:27<00:00,  7.52batch/s, train_acc=0.0323, train_logloss=3.16, train_loss=1.8] \n",
      "Valid Epoch 3: 100%|██████████| 28/28 [00:01<00:00, 25.65batch/s, valid_acc=0.0335, valid_logloss=2.91, valid_loss=4.2] \n",
      "100%|██████████| 206/206 [00:27<00:00,  7.53batch/s, train_acc=0.199, train_logloss=2.75, train_loss=1.29]\n",
      "Valid Epoch 4: 100%|██████████| 28/28 [00:01<00:00, 25.61batch/s, valid_acc=0.0335, valid_logloss=3.5, valid_loss=4.19] \n",
      "100%|██████████| 206/206 [00:27<00:00,  7.54batch/s, train_acc=0.0457, train_logloss=3.22, train_loss=2.63]\n",
      "Valid Epoch 5: 100%|██████████| 28/28 [00:01<00:00, 25.92batch/s, valid_acc=0.0766, valid_logloss=2.75, valid_loss=4.11]\n",
      "100%|██████████| 206/206 [00:27<00:00,  7.53batch/s, train_acc=0.0201, train_logloss=3.08, train_loss=2.36]\n",
      "Valid Epoch 6: 100%|██████████| 28/28 [00:01<00:00, 26.21batch/s, valid_acc=0.0766, valid_logloss=2.88, valid_loss=3.69]\n",
      "100%|██████████| 206/206 [00:27<00:00,  7.56batch/s, train_acc=0.0269, train_logloss=3.09, train_loss=2.35]\n",
      "Valid Epoch 7: 100%|██████████| 28/28 [00:01<00:00, 23.86batch/s, valid_acc=0.0335, valid_logloss=2.8, valid_loss=3.28] \n"
     ]
    },
    {
     "name": "stdout",
     "output_type": "stream",
     "text": [
      "\n",
      "BEST VALID LOSS : 3.27529\n"
     ]
    },
    {
     "name": "stderr",
     "output_type": "stream",
     "text": [
      "100%|██████████| 206/206 [00:27<00:00,  7.45batch/s, train_acc=0.0231, train_logloss=3.04, train_loss=2.26]\n",
      "Valid Epoch 8: 100%|██████████| 28/28 [00:01<00:00, 25.53batch/s, valid_acc=0.0335, valid_logloss=2.77, valid_loss=3.05]\n"
     ]
    },
    {
     "name": "stdout",
     "output_type": "stream",
     "text": [
      "\n",
      "BEST VALID LOSS : 3.04519\n"
     ]
    },
    {
     "name": "stderr",
     "output_type": "stream",
     "text": [
      "100%|██████████| 206/206 [00:27<00:00,  7.54batch/s, train_acc=0.0187, train_logloss=3, train_loss=2.35]   \n",
      "Valid Epoch 9: 100%|██████████| 28/28 [00:01<00:00, 26.06batch/s, valid_acc=0.0335, valid_logloss=2.83, valid_loss=3.01]\n"
     ]
    },
    {
     "name": "stdout",
     "output_type": "stream",
     "text": [
      "\n",
      "BEST VALID LOSS : 3.01479\n"
     ]
    },
    {
     "name": "stderr",
     "output_type": "stream",
     "text": [
      "100%|██████████| 206/206 [00:27<00:00,  7.59batch/s, train_acc=0.0639, train_logloss=2.85, train_loss=2.33] \n",
      "Valid Epoch 10: 100%|██████████| 28/28 [00:01<00:00, 26.39batch/s, valid_acc=0.0335, valid_logloss=2.78, valid_loss=3.07]\n",
      "100%|██████████| 206/206 [00:27<00:00,  7.55batch/s, train_acc=0.0665, train_logloss=2.84, train_loss=2.35] \n",
      "Valid Epoch 11: 100%|██████████| 28/28 [00:01<00:00, 26.52batch/s, valid_acc=0.0335, valid_logloss=2.75, valid_loss=3.11]\n",
      "100%|██████████| 206/206 [00:27<00:00,  7.58batch/s, train_acc=0.0653, train_logloss=2.84, train_loss=2.39]\n",
      "Valid Epoch 12: 100%|██████████| 28/28 [00:01<00:00, 26.23batch/s, valid_acc=0.0335, valid_logloss=2.73, valid_loss=3.11]\n",
      "100%|██████████| 206/206 [00:27<00:00,  7.50batch/s, train_acc=0.0646, train_logloss=2.86, train_loss=2.4] \n",
      "Valid Epoch 13: 100%|██████████| 28/28 [00:01<00:00, 26.27batch/s, valid_acc=0.0335, valid_logloss=2.73, valid_loss=3.07]\n",
      "100%|██████████| 206/206 [00:27<00:00,  7.56batch/s, train_acc=0.0534, train_logloss=2.87, train_loss=2.45]\n",
      "Valid Epoch 14: 100%|██████████| 28/28 [00:01<00:00, 26.38batch/s, valid_acc=0.0335, valid_logloss=2.74, valid_loss=3.01]\n"
     ]
    },
    {
     "name": "stdout",
     "output_type": "stream",
     "text": [
      "\n",
      "BEST VALID LOSS : 3.00883\n"
     ]
    },
    {
     "name": "stderr",
     "output_type": "stream",
     "text": [
      "100%|██████████| 206/206 [00:27<00:00,  7.56batch/s, train_acc=0.0456, train_logloss=2.89, train_loss=2.48]\n",
      "Valid Epoch 15: 100%|██████████| 28/28 [00:01<00:00, 26.30batch/s, valid_acc=0.0335, valid_logloss=2.75, valid_loss=2.95]\n"
     ]
    },
    {
     "name": "stdout",
     "output_type": "stream",
     "text": [
      "\n",
      "BEST VALID LOSS : 2.94923\n"
     ]
    },
    {
     "name": "stderr",
     "output_type": "stream",
     "text": [
      "100%|██████████| 206/206 [00:27<00:00,  7.57batch/s, train_acc=0.0338, train_logloss=2.91, train_loss=2.53]\n",
      "Valid Epoch 16: 100%|██████████| 28/28 [00:01<00:00, 25.95batch/s, valid_acc=0.0335, valid_logloss=2.77, valid_loss=2.92]\n"
     ]
    },
    {
     "name": "stdout",
     "output_type": "stream",
     "text": [
      "\n",
      "BEST VALID LOSS : 2.91918\n"
     ]
    },
    {
     "name": "stderr",
     "output_type": "stream",
     "text": [
      "100%|██████████| 206/206 [00:27<00:00,  7.59batch/s, train_acc=0.0302, train_logloss=2.92, train_loss=2.53]\n",
      "Valid Epoch 17: 100%|██████████| 28/28 [00:01<00:00, 26.19batch/s, valid_acc=0.0335, valid_logloss=2.8, valid_loss=2.9]  \n"
     ]
    },
    {
     "name": "stdout",
     "output_type": "stream",
     "text": [
      "\n",
      "BEST VALID LOSS : 2.90179\n"
     ]
    },
    {
     "name": "stderr",
     "output_type": "stream",
     "text": [
      "100%|██████████| 206/206 [00:27<00:00,  7.49batch/s, train_acc=0.0193, train_logloss=2.93, train_loss=2.12]\n",
      "Valid Epoch 18: 100%|██████████| 28/28 [00:01<00:00, 25.27batch/s, valid_acc=0.0335, valid_logloss=3.04, valid_loss=2.83]\n"
     ]
    },
    {
     "name": "stdout",
     "output_type": "stream",
     "text": [
      "\n",
      "BEST VALID LOSS : 2.83258\n"
     ]
    },
    {
     "name": "stderr",
     "output_type": "stream",
     "text": [
      "100%|██████████| 206/206 [00:27<00:00,  7.57batch/s, train_acc=0.166, train_logloss=3, train_loss=2.09]    \n",
      "Valid Epoch 19: 100%|██████████| 28/28 [00:01<00:00, 26.02batch/s, valid_acc=0.0335, valid_logloss=2.76, valid_loss=4.37]\n",
      "100%|██████████| 206/206 [00:27<00:00,  7.63batch/s, train_acc=0.0653, train_logloss=2.98, train_loss=2.06]\n",
      "Valid Epoch 20: 100%|██████████| 28/28 [00:01<00:00, 26.48batch/s, valid_acc=0.0335, valid_logloss=2.71, valid_loss=4.25]\n",
      "100%|██████████| 206/206 [00:27<00:00,  7.56batch/s, train_acc=0.0646, train_logloss=2.94, train_loss=2.14]\n",
      "Valid Epoch 21: 100%|██████████| 28/28 [00:01<00:00, 25.98batch/s, valid_acc=0.0335, valid_logloss=2.71, valid_loss=4.06]\n",
      "100%|██████████| 206/206 [00:27<00:00,  7.59batch/s, train_acc=0.0642, train_logloss=2.92, train_loss=2.17]\n",
      "Valid Epoch 22: 100%|██████████| 28/28 [00:01<00:00, 26.99batch/s, valid_acc=0.0335, valid_logloss=2.73, valid_loss=3.82]\n",
      "100%|██████████| 206/206 [00:27<00:00,  7.51batch/s, train_acc=0.0501, train_logloss=2.93, train_loss=2.23]\n",
      "Valid Epoch 23: 100%|██████████| 28/28 [00:01<00:00, 26.38batch/s, valid_acc=0.0335, valid_logloss=2.76, valid_loss=3.55]\n",
      "100%|██████████| 206/206 [00:27<00:00,  7.56batch/s, train_acc=0.0504, train_logloss=2.86, train_loss=2.17]\n",
      "Valid Epoch 24: 100%|██████████| 28/28 [00:01<00:00, 26.44batch/s, valid_acc=0.0335, valid_logloss=2.81, valid_loss=3.33]\n",
      "100%|██████████| 206/206 [00:27<00:00,  7.57batch/s, train_acc=0.0199, train_logloss=3.04, train_loss=2.47]\n",
      "Valid Epoch 25: 100%|██████████| 28/28 [00:01<00:00, 26.47batch/s, valid_acc=0.24, valid_logloss=2.65, valid_loss=3.96] \n",
      "100%|██████████| 206/206 [00:27<00:00,  7.59batch/s, train_acc=0.0203, train_logloss=2.96, train_loss=2.47]\n",
      "Valid Epoch 26: 100%|██████████| 28/28 [00:01<00:00, 26.18batch/s, valid_acc=0.0335, valid_logloss=2.67, valid_loss=3.71]\n",
      "100%|██████████| 206/206 [00:27<00:00,  7.59batch/s, train_acc=0.101, train_logloss=2.67, train_loss=0.816] \n",
      "Valid Epoch 27: 100%|██████████| 28/28 [00:01<00:00, 26.31batch/s, valid_acc=0.0335, valid_logloss=3.51, valid_loss=3.93]\n",
      "100%|██████████| 206/206 [00:27<00:00,  7.58batch/s, train_acc=0.196, train_logloss=2.67, train_loss=2.51] \n",
      "Valid Epoch 28: 100%|██████████| 28/28 [00:01<00:00, 25.93batch/s, valid_acc=0.0266, valid_logloss=2.58, valid_loss=4.09]"
     ]
    },
    {
     "name": "stdout",
     "output_type": "stream",
     "text": [
      "\n",
      "EARLY_STOPPING!!\n"
     ]
    },
    {
     "name": "stderr",
     "output_type": "stream",
     "text": [
      "\n"
     ]
    }
   ],
   "source": [
    "best_models = []\n",
    "\n",
    "EARLY_STOPPING_EPOCH = 10\n",
    "seed = 777\n",
    "np.random.seed(seed)\n",
    "torch.manual_seed(seed)\n",
    "torch.cuda.manual_seed_all(seed)\n",
    "torch.backends.cudnn.deterministic = True\n",
    "random.seed(seed)\n",
    "\n",
    "softmax = torch.nn.Softmax(-1)\n",
    "\n",
    "optimizer = optim.Adam(model.parameters(), lr=lr)\n",
    "lr_sched = torch.optim.lr_scheduler.CosineAnnealingWarmRestarts(optimizer, T_0=10, T_mult=1, eta_min=0.001, last_epoch=-1)\n",
    "criterion = nn.CrossEntropyLoss()\n",
    "\n",
    "valid_acc_max = 0\n",
    "valid_early_stop = 0\n",
    "valid_best_loss = float('inf')\n",
    "\n",
    "for epoch in range(epochs):\n",
    "    train_acc_list = []\n",
    "    train_logloss_list = []\n",
    "    with tqdm(dataset0_train_dataloader, total=dataset0_train_dataloader.__len__(), unit=\"batch\") as train_bar:\n",
    "        for sample in train_bar:\n",
    "            optimizer.zero_grad()\n",
    "\n",
    "            datas, labels = sample\n",
    "            datas = datas.to(device)\n",
    "            labels = labels.to(dtype=torch.long).to(device)\n",
    "            model.train()\n",
    "            with torch.set_grad_enabled(True):\n",
    "                outputs = model(datas)\n",
    "                loss = criterion(outputs, labels)\n",
    "\n",
    "                loss.backward()\n",
    "                optimizer.step()\n",
    "                \n",
    "                # log loss\n",
    "                probs = softmax(outputs)\n",
    "                refs = labels.cpu().detach().clone().numpy()\n",
    "                probs = probs.cpu().detach().clone().numpy()\n",
    "                logloss = log_loss(refs, probs, labels = np.arange(0,nlabel))\n",
    "                train_logloss_list.append(logloss)\n",
    "                train_logloss = np.mean(train_logloss_list)\n",
    "\n",
    "                preds = torch.argmax(outputs, dim = 1)\n",
    "                preds = preds.cpu().detach().numpy()\n",
    "                refs = labels.cpu().detach().numpy()\n",
    "                \n",
    "                batch_acc = (refs == preds).mean()\n",
    "                train_acc_list.append(batch_acc)\n",
    "                train_acc = np.mean(train_acc_list)\n",
    "                \n",
    "            train_bar.set_postfix(train_loss= loss.item(), train_acc = train_acc, train_logloss = train_logloss)\n",
    "            \n",
    "       \n",
    "    valid_acc_list = []\n",
    "    valid_logloss_list = []\n",
    "    with tqdm(dataset0_test_dataloader, total=dataset0_test_dataloader.__len__(), unit=\"batch\") as valid_bar:\n",
    "        for sample in valid_bar:\n",
    "            valid_bar.set_description(f\"Valid Epoch {epoch}\")\n",
    "            optimizer.zero_grad()\n",
    "            datas, labels = sample\n",
    "            datas = datas.to(device)\n",
    "            labels = labels.to(dtype=torch.long).to(device)\n",
    "\n",
    "            model.eval()\n",
    "\n",
    "            with torch.no_grad():\n",
    "                outputs = model(datas) # bsz, nlabel\n",
    "                loss = criterion(outputs, labels)\n",
    "\n",
    "                # log loss\n",
    "                probs = softmax(outputs)\n",
    "                refs = labels.cpu().detach().clone().numpy()\n",
    "                probs = probs.cpu().detach().clone().numpy()\n",
    "                logloss = log_loss(refs, probs, labels = np.arange(0,nlabel))\n",
    "                valid_logloss_list.append(logloss)\n",
    "                valid_logloss = np.mean(valid_logloss_list)\n",
    "\n",
    "                preds = torch.argmax(outputs, dim = 1)\n",
    "                preds = preds.cpu().detach().numpy()\n",
    "                refs = labels.cpu().detach().numpy()\n",
    "                batch_acc = (refs == preds).mean()\n",
    "                valid_acc_list.append(batch_acc)\n",
    "                valid_acc = np.mean(valid_acc_list)\n",
    "\n",
    "            valid_bar.set_postfix(valid_loss= loss.item(), valid_acc = valid_acc, valid_logloss = valid_logloss)\n",
    "            \n",
    "    # early stopping\n",
    "    if loss.item() < valid_best_loss:\n",
    "        print(f\"\\nBEST VALID LOSS : {loss.item():.5f}\")\n",
    "        valid_best_loss = loss.item()\n",
    "        valid_early_stop = 0\n",
    "    else:\n",
    "        valid_early_stop += 1\n",
    "        if valid_early_stop >= EARLY_STOPPING_EPOCH:\n",
    "            print(\"\\nEARLY_STOPPING!!\")\n",
    "            break\n",
    "            \n",
    "    lr_sched.step()\n",
    "    \n",
    "    if valid_acc_max < valid_acc:\n",
    "        valid_acc_max = valid_acc\n",
    "        best_model = model\n",
    "        torch.save(best_model.state_dict(), f'./pretrained_best_model.pth')\n",
    "\n",
    "    best_models.append(best_model)"
   ]
  },
  {
   "cell_type": "markdown",
   "id": "fc694950",
   "metadata": {},
   "source": [
    "# freeze and transfer"
   ]
  },
  {
   "cell_type": "code",
   "execution_count": 279,
   "id": "b8c71aab",
   "metadata": {
    "scrolled": true
   },
   "outputs": [],
   "source": [
    "# 11개 클래스 분류를 위한 레이어 추가\n",
    "\n",
    "model = MyGRU(nfea, nhid, nlabel, dropout).to(device)\n",
    "model.load_state_dict(torch.load('pretrained_best_model.pth'))\n",
    "model.eval()\n",
    "\n",
    "trans_model = nn.Sequential(\n",
    "    model,\n",
    "    nn.Linear(nlabel, 11)\n",
    ").to(device)"
   ]
  },
  {
   "cell_type": "code",
   "execution_count": 280,
   "id": "c2803b72",
   "metadata": {},
   "outputs": [],
   "source": [
    "# 마지막 레이어만 파라미터 init + 훈련\n",
    "\n",
    "for name, param in model.named_parameters():\n",
    "    if name in ['linear.0.weight', '0.linear1.bias', '0.linear2.bias', 'linear.2.weight']:\n",
    "        param.requires_grad = True\n",
    "        if len(param.shape) >= 2:\n",
    "            init.orthogonal_(param.data)\n",
    "        else:\n",
    "            init.normal_(param.data)\n",
    "    else:\n",
    "        param.requires_grad = False"
   ]
  },
  {
   "cell_type": "code",
   "execution_count": 281,
   "id": "eb6bc398",
   "metadata": {
    "scrolled": true
   },
   "outputs": [
    {
     "name": "stderr",
     "output_type": "stream",
     "text": [
      "100%|██████████| 24/24 [00:01<00:00, 22.61batch/s, train_acc=0.0859, train_logloss=2.5, train_loss=2.6]  \n",
      "Valid Epoch 0: 100%|██████████| 2/2 [00:00<00:00, 28.19batch/s, valid_acc=0.129, valid_logloss=2.6, valid_loss=2.81]\n"
     ]
    },
    {
     "name": "stdout",
     "output_type": "stream",
     "text": [
      "\n",
      "BEST VALID LOSS : 2.81297\n"
     ]
    },
    {
     "name": "stderr",
     "output_type": "stream",
     "text": [
      "100%|██████████| 24/24 [00:01<00:00, 23.23batch/s, train_acc=0.0885, train_logloss=2.49, train_loss=2.54]\n",
      "Valid Epoch 1: 100%|██████████| 2/2 [00:00<00:00, 27.53batch/s, valid_acc=0.129, valid_logloss=2.6, valid_loss=2.81]\n"
     ]
    },
    {
     "name": "stdout",
     "output_type": "stream",
     "text": [
      "\n",
      "BEST VALID LOSS : 2.80867\n"
     ]
    },
    {
     "name": "stderr",
     "output_type": "stream",
     "text": [
      "100%|██████████| 24/24 [00:01<00:00, 22.82batch/s, train_acc=0.0649, train_logloss=2.5, train_loss=2.67] \n",
      "Valid Epoch 2: 100%|██████████| 2/2 [00:00<00:00, 27.58batch/s, valid_acc=0.129, valid_logloss=2.59, valid_loss=2.8]\n"
     ]
    },
    {
     "name": "stdout",
     "output_type": "stream",
     "text": [
      "\n",
      "BEST VALID LOSS : 2.80214\n"
     ]
    },
    {
     "name": "stderr",
     "output_type": "stream",
     "text": [
      "100%|██████████| 24/24 [00:01<00:00, 22.98batch/s, train_acc=0.0894, train_logloss=2.49, train_loss=2.64]\n",
      "Valid Epoch 3: 100%|██████████| 2/2 [00:00<00:00, 28.09batch/s, valid_acc=0.129, valid_logloss=2.59, valid_loss=2.79]\n"
     ]
    },
    {
     "name": "stdout",
     "output_type": "stream",
     "text": [
      "\n",
      "BEST VALID LOSS : 2.79248\n"
     ]
    },
    {
     "name": "stderr",
     "output_type": "stream",
     "text": [
      "100%|██████████| 24/24 [00:01<00:00, 23.21batch/s, train_acc=0.0894, train_logloss=2.48, train_loss=2.54]\n",
      "Valid Epoch 4: 100%|██████████| 2/2 [00:00<00:00, 28.65batch/s, valid_acc=0.129, valid_logloss=2.58, valid_loss=2.78]\n"
     ]
    },
    {
     "name": "stdout",
     "output_type": "stream",
     "text": [
      "\n",
      "BEST VALID LOSS : 2.77880\n"
     ]
    },
    {
     "name": "stderr",
     "output_type": "stream",
     "text": [
      "100%|██████████| 24/24 [00:01<00:00, 23.09batch/s, train_acc=0.0894, train_logloss=2.48, train_loss=2.57]\n",
      "Valid Epoch 5: 100%|██████████| 2/2 [00:00<00:00, 28.21batch/s, valid_acc=0.129, valid_logloss=2.57, valid_loss=2.76]\n"
     ]
    },
    {
     "name": "stdout",
     "output_type": "stream",
     "text": [
      "\n",
      "BEST VALID LOSS : 2.76084\n"
     ]
    },
    {
     "name": "stderr",
     "output_type": "stream",
     "text": [
      "100%|██████████| 24/24 [00:01<00:00, 23.18batch/s, train_acc=0.0894, train_logloss=2.48, train_loss=2.68]\n",
      "Valid Epoch 6: 100%|██████████| 2/2 [00:00<00:00, 28.42batch/s, valid_acc=0.129, valid_logloss=2.56, valid_loss=2.74]\n"
     ]
    },
    {
     "name": "stdout",
     "output_type": "stream",
     "text": [
      "\n",
      "BEST VALID LOSS : 2.73950\n"
     ]
    },
    {
     "name": "stderr",
     "output_type": "stream",
     "text": [
      "100%|██████████| 24/24 [00:01<00:00, 23.08batch/s, train_acc=0.0894, train_logloss=2.47, train_loss=2.6] \n",
      "Valid Epoch 7: 100%|██████████| 2/2 [00:00<00:00, 28.06batch/s, valid_acc=0.129, valid_logloss=2.55, valid_loss=2.72]\n"
     ]
    },
    {
     "name": "stdout",
     "output_type": "stream",
     "text": [
      "\n",
      "BEST VALID LOSS : 2.71686\n"
     ]
    },
    {
     "name": "stderr",
     "output_type": "stream",
     "text": [
      "100%|██████████| 24/24 [00:01<00:00, 23.18batch/s, train_acc=0.0894, train_logloss=2.46, train_loss=2.54]\n",
      "Valid Epoch 8: 100%|██████████| 2/2 [00:00<00:00, 27.91batch/s, valid_acc=0.129, valid_logloss=2.54, valid_loss=2.69]\n"
     ]
    },
    {
     "name": "stdout",
     "output_type": "stream",
     "text": [
      "\n",
      "BEST VALID LOSS : 2.69236\n"
     ]
    },
    {
     "name": "stderr",
     "output_type": "stream",
     "text": [
      "100%|██████████| 24/24 [00:01<00:00, 23.01batch/s, train_acc=0.0894, train_logloss=2.45, train_loss=2.55]\n",
      "Valid Epoch 9: 100%|██████████| 2/2 [00:00<00:00, 28.14batch/s, valid_acc=0.129, valid_logloss=2.53, valid_loss=2.67]\n"
     ]
    },
    {
     "name": "stdout",
     "output_type": "stream",
     "text": [
      "\n",
      "BEST VALID LOSS : 2.66819\n"
     ]
    },
    {
     "name": "stderr",
     "output_type": "stream",
     "text": [
      "100%|██████████| 24/24 [00:01<00:00, 23.02batch/s, train_acc=0.0894, train_logloss=2.45, train_loss=2.65]\n",
      "Valid Epoch 10: 100%|██████████| 2/2 [00:00<00:00, 28.41batch/s, valid_acc=0.129, valid_logloss=2.53, valid_loss=2.67]\n"
     ]
    },
    {
     "name": "stdout",
     "output_type": "stream",
     "text": [
      "\n",
      "BEST VALID LOSS : 2.66569\n"
     ]
    },
    {
     "name": "stderr",
     "output_type": "stream",
     "text": [
      "100%|██████████| 24/24 [00:01<00:00, 21.40batch/s, train_acc=0.0894, train_logloss=2.44, train_loss=2.58]\n",
      "Valid Epoch 11: 100%|██████████| 2/2 [00:00<00:00, 19.21batch/s, valid_acc=0.129, valid_logloss=2.52, valid_loss=2.66]\n"
     ]
    },
    {
     "name": "stdout",
     "output_type": "stream",
     "text": [
      "\n",
      "BEST VALID LOSS : 2.66276\n"
     ]
    },
    {
     "name": "stderr",
     "output_type": "stream",
     "text": [
      "100%|██████████| 24/24 [00:01<00:00, 23.11batch/s, train_acc=0.0894, train_logloss=2.44, train_loss=2.49]\n",
      "Valid Epoch 12: 100%|██████████| 2/2 [00:00<00:00, 28.33batch/s, valid_acc=0.129, valid_logloss=2.52, valid_loss=2.66]\n"
     ]
    },
    {
     "name": "stdout",
     "output_type": "stream",
     "text": [
      "\n",
      "BEST VALID LOSS : 2.65854\n"
     ]
    },
    {
     "name": "stderr",
     "output_type": "stream",
     "text": [
      "100%|██████████| 24/24 [00:01<00:00, 23.17batch/s, train_acc=0.0894, train_logloss=2.45, train_loss=2.63]\n",
      "Valid Epoch 13: 100%|██████████| 2/2 [00:00<00:00, 28.20batch/s, valid_acc=0.129, valid_logloss=2.52, valid_loss=2.65]\n"
     ]
    },
    {
     "name": "stdout",
     "output_type": "stream",
     "text": [
      "\n",
      "BEST VALID LOSS : 2.65231\n"
     ]
    },
    {
     "name": "stderr",
     "output_type": "stream",
     "text": [
      "100%|██████████| 24/24 [00:01<00:00, 23.18batch/s, train_acc=0.0894, train_logloss=2.44, train_loss=2.56]\n",
      "Valid Epoch 14: 100%|██████████| 2/2 [00:00<00:00, 28.17batch/s, valid_acc=0.129, valid_logloss=2.51, valid_loss=2.64]\n"
     ]
    },
    {
     "name": "stdout",
     "output_type": "stream",
     "text": [
      "\n",
      "BEST VALID LOSS : 2.64321\n"
     ]
    },
    {
     "name": "stderr",
     "output_type": "stream",
     "text": [
      "100%|██████████| 24/24 [00:01<00:00, 23.19batch/s, train_acc=0.0877, train_logloss=2.44, train_loss=2.54]\n",
      "Valid Epoch 15: 100%|██████████| 2/2 [00:00<00:00, 28.33batch/s, valid_acc=0.129, valid_logloss=2.51, valid_loss=2.63]\n"
     ]
    },
    {
     "name": "stdout",
     "output_type": "stream",
     "text": [
      "\n",
      "BEST VALID LOSS : 2.63183\n"
     ]
    },
    {
     "name": "stderr",
     "output_type": "stream",
     "text": [
      "100%|██████████| 24/24 [00:01<00:00, 23.12batch/s, train_acc=0.0794, train_logloss=2.44, train_loss=2.5] \n",
      "Valid Epoch 16: 100%|██████████| 2/2 [00:00<00:00, 28.47batch/s, valid_acc=0.129, valid_logloss=2.5, valid_loss=2.62]\n"
     ]
    },
    {
     "name": "stdout",
     "output_type": "stream",
     "text": [
      "\n",
      "BEST VALID LOSS : 2.61741\n"
     ]
    },
    {
     "name": "stderr",
     "output_type": "stream",
     "text": [
      "100%|██████████| 24/24 [00:01<00:00, 23.10batch/s, train_acc=0.0713, train_logloss=2.44, train_loss=2.55]\n",
      "Valid Epoch 17: 100%|██████████| 2/2 [00:00<00:00, 27.66batch/s, valid_acc=0.129, valid_logloss=2.49, valid_loss=2.6]\n"
     ]
    },
    {
     "name": "stdout",
     "output_type": "stream",
     "text": [
      "\n",
      "BEST VALID LOSS : 2.60123\n"
     ]
    },
    {
     "name": "stderr",
     "output_type": "stream",
     "text": [
      "100%|██████████| 24/24 [00:01<00:00, 23.08batch/s, train_acc=0.0654, train_logloss=2.43, train_loss=2.46]\n",
      "Valid Epoch 18: 100%|██████████| 2/2 [00:00<00:00, 27.95batch/s, valid_acc=0.129, valid_logloss=2.49, valid_loss=2.58]\n"
     ]
    },
    {
     "name": "stdout",
     "output_type": "stream",
     "text": [
      "\n",
      "BEST VALID LOSS : 2.58460\n"
     ]
    },
    {
     "name": "stderr",
     "output_type": "stream",
     "text": [
      "100%|██████████| 24/24 [00:01<00:00, 22.85batch/s, train_acc=0.0705, train_logloss=2.43, train_loss=2.49]\n",
      "Valid Epoch 19: 100%|██████████| 2/2 [00:00<00:00, 27.11batch/s, valid_acc=0.129, valid_logloss=2.48, valid_loss=2.57]\n"
     ]
    },
    {
     "name": "stdout",
     "output_type": "stream",
     "text": [
      "\n",
      "BEST VALID LOSS : 2.56892\n"
     ]
    },
    {
     "name": "stderr",
     "output_type": "stream",
     "text": [
      "100%|██████████| 24/24 [00:01<00:00, 22.98batch/s, train_acc=0.1, train_logloss=2.42, train_loss=2.44]   \n",
      "Valid Epoch 20: 100%|██████████| 2/2 [00:00<00:00, 27.83batch/s, valid_acc=0.129, valid_logloss=2.48, valid_loss=2.57]\n"
     ]
    },
    {
     "name": "stdout",
     "output_type": "stream",
     "text": [
      "\n",
      "BEST VALID LOSS : 2.56743\n"
     ]
    },
    {
     "name": "stderr",
     "output_type": "stream",
     "text": [
      "100%|██████████| 24/24 [00:01<00:00, 23.03batch/s, train_acc=0.1, train_logloss=2.42, train_loss=2.51]   \n",
      "Valid Epoch 21: 100%|██████████| 2/2 [00:00<00:00, 27.96batch/s, valid_acc=0.129, valid_logloss=2.48, valid_loss=2.57]\n"
     ]
    },
    {
     "name": "stdout",
     "output_type": "stream",
     "text": [
      "\n",
      "BEST VALID LOSS : 2.56561\n"
     ]
    },
    {
     "name": "stderr",
     "output_type": "stream",
     "text": [
      "100%|██████████| 24/24 [00:01<00:00, 23.07batch/s, train_acc=0.0993, train_logloss=2.42, train_loss=2.52]\n",
      "Valid Epoch 22: 100%|██████████| 2/2 [00:00<00:00, 27.84batch/s, valid_acc=0.129, valid_logloss=2.47, valid_loss=2.56]\n"
     ]
    },
    {
     "name": "stdout",
     "output_type": "stream",
     "text": [
      "\n",
      "BEST VALID LOSS : 2.56292\n"
     ]
    },
    {
     "name": "stderr",
     "output_type": "stream",
     "text": [
      "100%|██████████| 24/24 [00:01<00:00, 22.55batch/s, train_acc=0.0975, train_logloss=2.42, train_loss=2.52]\n",
      "Valid Epoch 23: 100%|██████████| 2/2 [00:00<00:00, 27.40batch/s, valid_acc=0.129, valid_logloss=2.47, valid_loss=2.56]\n"
     ]
    },
    {
     "name": "stdout",
     "output_type": "stream",
     "text": [
      "\n",
      "BEST VALID LOSS : 2.55895\n"
     ]
    },
    {
     "name": "stderr",
     "output_type": "stream",
     "text": [
      "100%|██████████| 24/24 [00:01<00:00, 22.35batch/s, train_acc=0.101, train_logloss=2.42, train_loss=2.5]  \n",
      "Valid Epoch 24: 100%|██████████| 2/2 [00:00<00:00, 27.99batch/s, valid_acc=0.129, valid_logloss=2.47, valid_loss=2.55]\n"
     ]
    },
    {
     "name": "stdout",
     "output_type": "stream",
     "text": [
      "\n",
      "BEST VALID LOSS : 2.55326\n"
     ]
    },
    {
     "name": "stderr",
     "output_type": "stream",
     "text": [
      "100%|██████████| 24/24 [00:01<00:00, 22.39batch/s, train_acc=0.093, train_logloss=2.42, train_loss=2.51] \n",
      "Valid Epoch 25: 100%|██████████| 2/2 [00:00<00:00, 27.58batch/s, valid_acc=0.129, valid_logloss=2.47, valid_loss=2.55]\n"
     ]
    },
    {
     "name": "stdout",
     "output_type": "stream",
     "text": [
      "\n",
      "BEST VALID LOSS : 2.54624\n"
     ]
    },
    {
     "name": "stderr",
     "output_type": "stream",
     "text": [
      "100%|██████████| 24/24 [00:01<00:00, 22.78batch/s, train_acc=0.0988, train_logloss=2.42, train_loss=2.46]\n",
      "Valid Epoch 26: 100%|██████████| 2/2 [00:00<00:00, 28.00batch/s, valid_acc=0.129, valid_logloss=2.46, valid_loss=2.54]\n"
     ]
    },
    {
     "name": "stdout",
     "output_type": "stream",
     "text": [
      "\n",
      "BEST VALID LOSS : 2.53771\n"
     ]
    },
    {
     "name": "stderr",
     "output_type": "stream",
     "text": [
      "100%|██████████| 24/24 [00:01<00:00, 22.67batch/s, train_acc=0.0966, train_logloss=2.43, train_loss=2.49]\n",
      "Valid Epoch 27: 100%|██████████| 2/2 [00:00<00:00, 28.18batch/s, valid_acc=0.129, valid_logloss=2.46, valid_loss=2.53]\n"
     ]
    },
    {
     "name": "stdout",
     "output_type": "stream",
     "text": [
      "\n",
      "BEST VALID LOSS : 2.52689\n"
     ]
    },
    {
     "name": "stderr",
     "output_type": "stream",
     "text": [
      "100%|██████████| 24/24 [00:01<00:00, 20.04batch/s, train_acc=0.0763, train_logloss=2.42, train_loss=2.46]\n",
      "Valid Epoch 28: 100%|██████████| 2/2 [00:00<00:00, 27.97batch/s, valid_acc=0.129, valid_logloss=2.45, valid_loss=2.52]\n"
     ]
    },
    {
     "name": "stdout",
     "output_type": "stream",
     "text": [
      "\n",
      "BEST VALID LOSS : 2.51661\n"
     ]
    },
    {
     "name": "stderr",
     "output_type": "stream",
     "text": [
      "100%|██████████| 24/24 [00:01<00:00, 23.00batch/s, train_acc=0.0843, train_logloss=2.42, train_loss=2.46]\n",
      "Valid Epoch 29: 100%|██████████| 2/2 [00:00<00:00, 28.33batch/s, valid_acc=0.129, valid_logloss=2.45, valid_loss=2.51]\n"
     ]
    },
    {
     "name": "stdout",
     "output_type": "stream",
     "text": [
      "\n",
      "BEST VALID LOSS : 2.50652\n"
     ]
    },
    {
     "name": "stderr",
     "output_type": "stream",
     "text": [
      "100%|██████████| 24/24 [00:01<00:00, 22.98batch/s, train_acc=0.104, train_logloss=2.41, train_loss=2.43] \n",
      "Valid Epoch 30: 100%|██████████| 2/2 [00:00<00:00, 27.36batch/s, valid_acc=0.129, valid_logloss=2.45, valid_loss=2.51]\n"
     ]
    },
    {
     "name": "stdout",
     "output_type": "stream",
     "text": [
      "\n",
      "BEST VALID LOSS : 2.50556\n"
     ]
    },
    {
     "name": "stderr",
     "output_type": "stream",
     "text": [
      "100%|██████████| 24/24 [00:01<00:00, 23.01batch/s, train_acc=0.0966, train_logloss=2.41, train_loss=2.49]\n",
      "Valid Epoch 31: 100%|██████████| 2/2 [00:00<00:00, 23.06batch/s, valid_acc=0.129, valid_logloss=2.45, valid_loss=2.5]\n"
     ]
    },
    {
     "name": "stdout",
     "output_type": "stream",
     "text": [
      "\n",
      "BEST VALID LOSS : 2.50442\n"
     ]
    },
    {
     "name": "stderr",
     "output_type": "stream",
     "text": [
      "100%|██████████| 24/24 [00:01<00:00, 22.97batch/s, train_acc=0.0983, train_logloss=2.41, train_loss=2.47]\n",
      "Valid Epoch 32: 100%|██████████| 2/2 [00:00<00:00, 27.52batch/s, valid_acc=0.129, valid_logloss=2.45, valid_loss=2.5]\n"
     ]
    },
    {
     "name": "stdout",
     "output_type": "stream",
     "text": [
      "\n",
      "BEST VALID LOSS : 2.50272\n"
     ]
    },
    {
     "name": "stderr",
     "output_type": "stream",
     "text": [
      "100%|██████████| 24/24 [00:01<00:00, 22.98batch/s, train_acc=0.0992, train_logloss=2.41, train_loss=2.45]\n",
      "Valid Epoch 33: 100%|██████████| 2/2 [00:00<00:00, 28.11batch/s, valid_acc=0.129, valid_logloss=2.45, valid_loss=2.5]\n"
     ]
    },
    {
     "name": "stdout",
     "output_type": "stream",
     "text": [
      "\n",
      "BEST VALID LOSS : 2.50051\n"
     ]
    },
    {
     "name": "stderr",
     "output_type": "stream",
     "text": [
      "100%|██████████| 24/24 [00:01<00:00, 22.95batch/s, train_acc=0.0936, train_logloss=2.41, train_loss=2.4] \n",
      "Valid Epoch 34: 100%|██████████| 2/2 [00:00<00:00, 28.25batch/s, valid_acc=0.129, valid_logloss=2.44, valid_loss=2.5]\n"
     ]
    },
    {
     "name": "stdout",
     "output_type": "stream",
     "text": [
      "\n",
      "BEST VALID LOSS : 2.49738\n"
     ]
    },
    {
     "name": "stderr",
     "output_type": "stream",
     "text": [
      "100%|██████████| 24/24 [00:01<00:00, 22.97batch/s, train_acc=0.0872, train_logloss=2.41, train_loss=2.45]\n",
      "Valid Epoch 35: 100%|██████████| 2/2 [00:00<00:00, 28.25batch/s, valid_acc=0.129, valid_logloss=2.44, valid_loss=2.49]\n"
     ]
    },
    {
     "name": "stdout",
     "output_type": "stream",
     "text": [
      "\n",
      "BEST VALID LOSS : 2.49307\n"
     ]
    },
    {
     "name": "stderr",
     "output_type": "stream",
     "text": [
      "100%|██████████| 24/24 [00:01<00:00, 22.97batch/s, train_acc=0.0919, train_logloss=2.41, train_loss=2.43]\n",
      "Valid Epoch 36: 100%|██████████| 2/2 [00:00<00:00, 27.97batch/s, valid_acc=0.129, valid_logloss=2.44, valid_loss=2.49]\n"
     ]
    },
    {
     "name": "stdout",
     "output_type": "stream",
     "text": [
      "\n",
      "BEST VALID LOSS : 2.48819\n"
     ]
    },
    {
     "name": "stderr",
     "output_type": "stream",
     "text": [
      "100%|██████████| 24/24 [00:01<00:00, 23.04batch/s, train_acc=0.0788, train_logloss=2.41, train_loss=2.41]\n",
      "Valid Epoch 37: 100%|██████████| 2/2 [00:00<00:00, 27.96batch/s, valid_acc=0.129, valid_logloss=2.44, valid_loss=2.48]\n"
     ]
    },
    {
     "name": "stdout",
     "output_type": "stream",
     "text": [
      "\n",
      "BEST VALID LOSS : 2.48232\n"
     ]
    },
    {
     "name": "stderr",
     "output_type": "stream",
     "text": [
      "100%|██████████| 24/24 [00:01<00:00, 22.92batch/s, train_acc=0.0788, train_logloss=2.41, train_loss=2.41]\n",
      "Valid Epoch 38: 100%|██████████| 2/2 [00:00<00:00, 27.68batch/s, valid_acc=0.129, valid_logloss=2.43, valid_loss=2.48]\n"
     ]
    },
    {
     "name": "stdout",
     "output_type": "stream",
     "text": [
      "\n",
      "BEST VALID LOSS : 2.47649\n"
     ]
    },
    {
     "name": "stderr",
     "output_type": "stream",
     "text": [
      "100%|██████████| 24/24 [00:01<00:00, 22.71batch/s, train_acc=0.0857, train_logloss=2.41, train_loss=2.39]\n",
      "Valid Epoch 39: 100%|██████████| 2/2 [00:00<00:00, 28.12batch/s, valid_acc=0.129, valid_logloss=2.43, valid_loss=2.47]\n"
     ]
    },
    {
     "name": "stdout",
     "output_type": "stream",
     "text": [
      "\n",
      "BEST VALID LOSS : 2.47031\n"
     ]
    },
    {
     "name": "stderr",
     "output_type": "stream",
     "text": [
      "100%|██████████| 24/24 [00:01<00:00, 22.60batch/s, train_acc=0.1, train_logloss=2.4, train_loss=2.4]     \n",
      "Valid Epoch 40: 100%|██████████| 2/2 [00:00<00:00, 27.05batch/s, valid_acc=0.129, valid_logloss=2.43, valid_loss=2.47]\n"
     ]
    },
    {
     "name": "stdout",
     "output_type": "stream",
     "text": [
      "\n",
      "BEST VALID LOSS : 2.46989\n"
     ]
    },
    {
     "name": "stderr",
     "output_type": "stream",
     "text": [
      "100%|██████████| 24/24 [00:01<00:00, 22.66batch/s, train_acc=0.106, train_logloss=2.4, train_loss=2.37]  \n",
      "Valid Epoch 41: 100%|██████████| 2/2 [00:00<00:00, 26.53batch/s, valid_acc=0.129, valid_logloss=2.43, valid_loss=2.47]\n"
     ]
    },
    {
     "name": "stdout",
     "output_type": "stream",
     "text": [
      "\n",
      "BEST VALID LOSS : 2.46919\n"
     ]
    },
    {
     "name": "stderr",
     "output_type": "stream",
     "text": [
      "100%|██████████| 24/24 [00:01<00:00, 22.94batch/s, train_acc=0.106, train_logloss=2.4, train_loss=2.37]  \n",
      "Valid Epoch 42: 100%|██████████| 2/2 [00:00<00:00, 27.56batch/s, valid_acc=0.129, valid_logloss=2.43, valid_loss=2.47]\n"
     ]
    },
    {
     "name": "stdout",
     "output_type": "stream",
     "text": [
      "\n",
      "BEST VALID LOSS : 2.46826\n"
     ]
    },
    {
     "name": "stderr",
     "output_type": "stream",
     "text": [
      "100%|██████████| 24/24 [00:01<00:00, 22.78batch/s, train_acc=0.095, train_logloss=2.41, train_loss=2.41] \n",
      "Valid Epoch 43: 100%|██████████| 2/2 [00:00<00:00, 25.96batch/s, valid_acc=0.129, valid_logloss=2.43, valid_loss=2.47]\n"
     ]
    },
    {
     "name": "stdout",
     "output_type": "stream",
     "text": [
      "\n",
      "BEST VALID LOSS : 2.46685\n"
     ]
    },
    {
     "name": "stderr",
     "output_type": "stream",
     "text": [
      "100%|██████████| 24/24 [00:01<00:00, 22.89batch/s, train_acc=0.0994, train_logloss=2.41, train_loss=2.41]\n",
      "Valid Epoch 44: 100%|██████████| 2/2 [00:00<00:00, 27.94batch/s, valid_acc=0.129, valid_logloss=2.43, valid_loss=2.46]\n"
     ]
    },
    {
     "name": "stdout",
     "output_type": "stream",
     "text": [
      "\n",
      "BEST VALID LOSS : 2.46452\n"
     ]
    },
    {
     "name": "stderr",
     "output_type": "stream",
     "text": [
      "100%|██████████| 24/24 [00:01<00:00, 22.93batch/s, train_acc=0.0988, train_logloss=2.41, train_loss=2.38]\n",
      "Valid Epoch 45: 100%|██████████| 2/2 [00:00<00:00, 28.23batch/s, valid_acc=0.129, valid_logloss=2.43, valid_loss=2.46]\n"
     ]
    },
    {
     "name": "stdout",
     "output_type": "stream",
     "text": [
      "\n",
      "BEST VALID LOSS : 2.46207\n"
     ]
    },
    {
     "name": "stderr",
     "output_type": "stream",
     "text": [
      "100%|██████████| 24/24 [00:01<00:00, 22.99batch/s, train_acc=0.0948, train_logloss=2.41, train_loss=2.37]\n",
      "Valid Epoch 46: 100%|██████████| 2/2 [00:00<00:00, 27.24batch/s, valid_acc=0.129, valid_logloss=2.43, valid_loss=2.46]\n"
     ]
    },
    {
     "name": "stdout",
     "output_type": "stream",
     "text": [
      "\n",
      "BEST VALID LOSS : 2.45910\n"
     ]
    },
    {
     "name": "stderr",
     "output_type": "stream",
     "text": [
      "100%|██████████| 24/24 [00:01<00:00, 22.94batch/s, train_acc=0.0995, train_logloss=2.41, train_loss=2.37]\n",
      "Valid Epoch 47: 100%|██████████| 2/2 [00:00<00:00, 27.32batch/s, valid_acc=0.129, valid_logloss=2.43, valid_loss=2.46]\n"
     ]
    },
    {
     "name": "stdout",
     "output_type": "stream",
     "text": [
      "\n",
      "BEST VALID LOSS : 2.45612\n"
     ]
    },
    {
     "name": "stderr",
     "output_type": "stream",
     "text": [
      "100%|██████████| 24/24 [00:01<00:00, 22.81batch/s, train_acc=0.104, train_logloss=2.41, train_loss=2.37] \n",
      "Valid Epoch 48: 100%|██████████| 2/2 [00:00<00:00, 27.86batch/s, valid_acc=0.129, valid_logloss=2.43, valid_loss=2.45]\n"
     ]
    },
    {
     "name": "stdout",
     "output_type": "stream",
     "text": [
      "\n",
      "BEST VALID LOSS : 2.45295\n"
     ]
    },
    {
     "name": "stderr",
     "output_type": "stream",
     "text": [
      "100%|██████████| 24/24 [00:01<00:00, 22.88batch/s, train_acc=0.0995, train_logloss=2.41, train_loss=2.36]\n",
      "Valid Epoch 49: 100%|██████████| 2/2 [00:00<00:00, 27.69batch/s, valid_acc=0.129, valid_logloss=2.42, valid_loss=2.45]\n"
     ]
    },
    {
     "name": "stdout",
     "output_type": "stream",
     "text": [
      "\n",
      "BEST VALID LOSS : 2.44915\n"
     ]
    },
    {
     "name": "stderr",
     "output_type": "stream",
     "text": [
      "100%|██████████| 24/24 [00:01<00:00, 22.67batch/s, train_acc=0.0983, train_logloss=2.4, train_loss=2.35] \n",
      "Valid Epoch 50: 100%|██████████| 2/2 [00:00<00:00, 27.52batch/s, valid_acc=0.129, valid_logloss=2.42, valid_loss=2.45]\n"
     ]
    },
    {
     "name": "stdout",
     "output_type": "stream",
     "text": [
      "\n",
      "BEST VALID LOSS : 2.44876\n"
     ]
    },
    {
     "name": "stderr",
     "output_type": "stream",
     "text": [
      "100%|██████████| 24/24 [00:01<00:00, 22.73batch/s, train_acc=0.0966, train_logloss=2.4, train_loss=2.36] \n",
      "Valid Epoch 51: 100%|██████████| 2/2 [00:00<00:00, 27.14batch/s, valid_acc=0.129, valid_logloss=2.42, valid_loss=2.45]\n"
     ]
    },
    {
     "name": "stdout",
     "output_type": "stream",
     "text": [
      "\n",
      "BEST VALID LOSS : 2.44830\n"
     ]
    },
    {
     "name": "stderr",
     "output_type": "stream",
     "text": [
      "100%|██████████| 24/24 [00:01<00:00, 22.62batch/s, train_acc=0.101, train_logloss=2.4, train_loss=2.35]  \n",
      "Valid Epoch 52: 100%|██████████| 2/2 [00:00<00:00, 26.19batch/s, valid_acc=0.129, valid_logloss=2.42, valid_loss=2.45]\n"
     ]
    },
    {
     "name": "stdout",
     "output_type": "stream",
     "text": [
      "\n",
      "BEST VALID LOSS : 2.44772\n"
     ]
    },
    {
     "name": "stderr",
     "output_type": "stream",
     "text": [
      "100%|██████████| 24/24 [00:01<00:00, 22.10batch/s, train_acc=0.103, train_logloss=2.4, train_loss=2.34]  \n",
      "Valid Epoch 53: 100%|██████████| 2/2 [00:00<00:00, 24.95batch/s, valid_acc=0.129, valid_logloss=2.42, valid_loss=2.45]\n"
     ]
    },
    {
     "name": "stdout",
     "output_type": "stream",
     "text": [
      "\n",
      "BEST VALID LOSS : 2.44661\n"
     ]
    },
    {
     "name": "stderr",
     "output_type": "stream",
     "text": [
      "100%|██████████| 24/24 [00:01<00:00, 22.82batch/s, train_acc=0.1, train_logloss=2.4, train_loss=2.35]    \n",
      "Valid Epoch 54: 100%|██████████| 2/2 [00:00<00:00, 28.08batch/s, valid_acc=0.129, valid_logloss=2.42, valid_loss=2.45]\n"
     ]
    },
    {
     "name": "stdout",
     "output_type": "stream",
     "text": [
      "\n",
      "BEST VALID LOSS : 2.44525\n"
     ]
    },
    {
     "name": "stderr",
     "output_type": "stream",
     "text": [
      "100%|██████████| 24/24 [00:01<00:00, 22.60batch/s, train_acc=0.0976, train_logloss=2.4, train_loss=2.36] \n",
      "Valid Epoch 55: 100%|██████████| 2/2 [00:00<00:00, 27.70batch/s, valid_acc=0.129, valid_logloss=2.42, valid_loss=2.44]\n"
     ]
    },
    {
     "name": "stdout",
     "output_type": "stream",
     "text": [
      "\n",
      "BEST VALID LOSS : 2.44392\n"
     ]
    },
    {
     "name": "stderr",
     "output_type": "stream",
     "text": [
      "100%|██████████| 24/24 [00:01<00:00, 22.96batch/s, train_acc=0.0996, train_logloss=2.41, train_loss=2.35]\n",
      "Valid Epoch 56: 100%|██████████| 2/2 [00:00<00:00, 27.83batch/s, valid_acc=0.0684, valid_logloss=2.42, valid_loss=2.44]\n"
     ]
    },
    {
     "name": "stdout",
     "output_type": "stream",
     "text": [
      "\n",
      "BEST VALID LOSS : 2.44224\n"
     ]
    },
    {
     "name": "stderr",
     "output_type": "stream",
     "text": [
      "100%|██████████| 24/24 [00:01<00:00, 22.80batch/s, train_acc=0.0984, train_logloss=2.41, train_loss=2.33]\n",
      "Valid Epoch 57: 100%|██████████| 2/2 [00:00<00:00, 27.77batch/s, valid_acc=0.0293, valid_logloss=2.42, valid_loss=2.44]\n"
     ]
    },
    {
     "name": "stdout",
     "output_type": "stream",
     "text": [
      "\n",
      "BEST VALID LOSS : 2.44037\n"
     ]
    },
    {
     "name": "stderr",
     "output_type": "stream",
     "text": [
      "100%|██████████| 24/24 [00:01<00:00, 22.98batch/s, train_acc=0.104, train_logloss=2.41, train_loss=2.33] \n",
      "Valid Epoch 58: 100%|██████████| 2/2 [00:00<00:00, 28.25batch/s, valid_acc=0.00781, valid_logloss=2.42, valid_loss=2.44]\n"
     ]
    },
    {
     "name": "stdout",
     "output_type": "stream",
     "text": [
      "\n",
      "BEST VALID LOSS : 2.43763\n"
     ]
    },
    {
     "name": "stderr",
     "output_type": "stream",
     "text": [
      "100%|██████████| 24/24 [00:01<00:00, 22.66batch/s, train_acc=0.0996, train_logloss=2.41, train_loss=2.33]\n",
      "Valid Epoch 59: 100%|██████████| 2/2 [00:00<00:00, 28.30batch/s, valid_acc=0.00781, valid_logloss=2.42, valid_loss=2.44]\n"
     ]
    },
    {
     "name": "stdout",
     "output_type": "stream",
     "text": [
      "\n",
      "BEST VALID LOSS : 2.43511\n"
     ]
    },
    {
     "name": "stderr",
     "output_type": "stream",
     "text": [
      "100%|██████████| 24/24 [00:01<00:00, 22.72batch/s, train_acc=0.107, train_logloss=2.4, train_loss=2.31]  \n",
      "Valid Epoch 60: 100%|██████████| 2/2 [00:00<00:00, 28.25batch/s, valid_acc=0.00781, valid_logloss=2.42, valid_loss=2.43]\n"
     ]
    },
    {
     "name": "stdout",
     "output_type": "stream",
     "text": [
      "\n",
      "BEST VALID LOSS : 2.43487\n"
     ]
    },
    {
     "name": "stderr",
     "output_type": "stream",
     "text": [
      "100%|██████████| 24/24 [00:01<00:00, 22.97batch/s, train_acc=0.0989, train_logloss=2.4, train_loss=2.33] \n",
      "Valid Epoch 61: 100%|██████████| 2/2 [00:00<00:00, 24.29batch/s, valid_acc=0.00781, valid_logloss=2.42, valid_loss=2.43]\n"
     ]
    },
    {
     "name": "stdout",
     "output_type": "stream",
     "text": [
      "\n",
      "BEST VALID LOSS : 2.43473\n"
     ]
    },
    {
     "name": "stderr",
     "output_type": "stream",
     "text": [
      "100%|██████████| 24/24 [00:01<00:00, 22.59batch/s, train_acc=0.109, train_logloss=2.4, train_loss=2.32]  \n",
      "Valid Epoch 62: 100%|██████████| 2/2 [00:00<00:00, 27.89batch/s, valid_acc=0.00781, valid_logloss=2.42, valid_loss=2.43]\n"
     ]
    },
    {
     "name": "stdout",
     "output_type": "stream",
     "text": [
      "\n",
      "BEST VALID LOSS : 2.43440\n"
     ]
    },
    {
     "name": "stderr",
     "output_type": "stream",
     "text": [
      "100%|██████████| 24/24 [00:01<00:00, 22.97batch/s, train_acc=0.104, train_logloss=2.4, train_loss=2.32]  \n",
      "Valid Epoch 63: 100%|██████████| 2/2 [00:00<00:00, 28.06batch/s, valid_acc=0.00781, valid_logloss=2.42, valid_loss=2.43]\n"
     ]
    },
    {
     "name": "stdout",
     "output_type": "stream",
     "text": [
      "\n",
      "BEST VALID LOSS : 2.43407\n"
     ]
    },
    {
     "name": "stderr",
     "output_type": "stream",
     "text": [
      "100%|██████████| 24/24 [00:01<00:00, 22.88batch/s, train_acc=0.105, train_logloss=2.4, train_loss=2.32]  \n",
      "Valid Epoch 64: 100%|██████████| 2/2 [00:00<00:00, 28.32batch/s, valid_acc=0.00781, valid_logloss=2.42, valid_loss=2.43]\n"
     ]
    },
    {
     "name": "stdout",
     "output_type": "stream",
     "text": [
      "\n",
      "BEST VALID LOSS : 2.43336\n"
     ]
    },
    {
     "name": "stderr",
     "output_type": "stream",
     "text": [
      "100%|██████████| 24/24 [00:01<00:00, 22.93batch/s, train_acc=0.105, train_logloss=2.4, train_loss=2.32]  \n",
      "Valid Epoch 65: 100%|██████████| 2/2 [00:00<00:00, 28.19batch/s, valid_acc=0.00781, valid_logloss=2.42, valid_loss=2.43]\n"
     ]
    },
    {
     "name": "stdout",
     "output_type": "stream",
     "text": [
      "\n",
      "BEST VALID LOSS : 2.43158\n"
     ]
    },
    {
     "name": "stderr",
     "output_type": "stream",
     "text": [
      "100%|██████████| 24/24 [00:01<00:00, 22.76batch/s, train_acc=0.0982, train_logloss=2.41, train_loss=2.33]\n",
      "Valid Epoch 66: 100%|██████████| 2/2 [00:00<00:00, 27.86batch/s, valid_acc=0.00781, valid_logloss=2.42, valid_loss=2.43]\n"
     ]
    },
    {
     "name": "stdout",
     "output_type": "stream",
     "text": [
      "\n",
      "BEST VALID LOSS : 2.43013\n"
     ]
    },
    {
     "name": "stderr",
     "output_type": "stream",
     "text": [
      "100%|██████████| 24/24 [00:01<00:00, 21.88batch/s, train_acc=0.106, train_logloss=2.41, train_loss=2.31] \n",
      "Valid Epoch 67: 100%|██████████| 2/2 [00:00<00:00, 27.89batch/s, valid_acc=0.00781, valid_logloss=2.42, valid_loss=2.43]\n"
     ]
    },
    {
     "name": "stdout",
     "output_type": "stream",
     "text": [
      "\n",
      "BEST VALID LOSS : 2.42857\n"
     ]
    },
    {
     "name": "stderr",
     "output_type": "stream",
     "text": [
      "100%|██████████| 24/24 [00:01<00:00, 22.64batch/s, train_acc=0.106, train_logloss=2.41, train_loss=2.31] \n",
      "Valid Epoch 68: 100%|██████████| 2/2 [00:00<00:00, 25.17batch/s, valid_acc=0.00781, valid_logloss=2.41, valid_loss=2.43]\n"
     ]
    },
    {
     "name": "stdout",
     "output_type": "stream",
     "text": [
      "\n",
      "BEST VALID LOSS : 2.42668\n"
     ]
    },
    {
     "name": "stderr",
     "output_type": "stream",
     "text": [
      "100%|██████████| 24/24 [00:01<00:00, 22.59batch/s, train_acc=0.102, train_logloss=2.41, train_loss=2.3]  \n",
      "Valid Epoch 69: 100%|██████████| 2/2 [00:00<00:00, 28.28batch/s, valid_acc=0.00781, valid_logloss=2.41, valid_loss=2.43]\n"
     ]
    },
    {
     "name": "stdout",
     "output_type": "stream",
     "text": [
      "\n",
      "BEST VALID LOSS : 2.42593\n"
     ]
    },
    {
     "name": "stderr",
     "output_type": "stream",
     "text": [
      "100%|██████████| 24/24 [00:01<00:00, 22.62batch/s, train_acc=0.102, train_logloss=2.4, train_loss=2.3]   \n",
      "Valid Epoch 70: 100%|██████████| 2/2 [00:00<00:00, 21.10batch/s, valid_acc=0.00781, valid_logloss=2.41, valid_loss=2.43]\n"
     ]
    },
    {
     "name": "stdout",
     "output_type": "stream",
     "text": [
      "\n",
      "BEST VALID LOSS : 2.42580\n"
     ]
    },
    {
     "name": "stderr",
     "output_type": "stream",
     "text": [
      "100%|██████████| 24/24 [00:01<00:00, 22.61batch/s, train_acc=0.0831, train_logloss=2.4, train_loss=2.3]   \n",
      "Valid Epoch 71: 100%|██████████| 2/2 [00:00<00:00, 27.04batch/s, valid_acc=0.00781, valid_logloss=2.41, valid_loss=2.43]\n"
     ]
    },
    {
     "name": "stdout",
     "output_type": "stream",
     "text": [
      "\n",
      "BEST VALID LOSS : 2.42576\n"
     ]
    },
    {
     "name": "stderr",
     "output_type": "stream",
     "text": [
      "100%|██████████| 24/24 [00:01<00:00, 22.91batch/s, train_acc=0.0821, train_logloss=2.4, train_loss=2.3]   \n",
      "Valid Epoch 72: 100%|██████████| 2/2 [00:00<00:00, 28.57batch/s, valid_acc=0.00781, valid_logloss=2.41, valid_loss=2.43]\n"
     ]
    },
    {
     "name": "stdout",
     "output_type": "stream",
     "text": [
      "\n",
      "BEST VALID LOSS : 2.42545\n"
     ]
    },
    {
     "name": "stderr",
     "output_type": "stream",
     "text": [
      "100%|██████████| 24/24 [00:01<00:00, 20.07batch/s, train_acc=0.0818, train_logloss=2.4, train_loss=2.3]   \n",
      "Valid Epoch 73: 100%|██████████| 2/2 [00:00<00:00, 27.20batch/s, valid_acc=0.00781, valid_logloss=2.41, valid_loss=2.43]\n"
     ]
    },
    {
     "name": "stdout",
     "output_type": "stream",
     "text": [
      "\n",
      "BEST VALID LOSS : 2.42500\n"
     ]
    },
    {
     "name": "stderr",
     "output_type": "stream",
     "text": [
      "100%|██████████| 24/24 [00:01<00:00, 22.89batch/s, train_acc=0.101, train_logloss=2.4, train_loss=2.29]  \n",
      "Valid Epoch 74: 100%|██████████| 2/2 [00:00<00:00, 28.17batch/s, valid_acc=0.00781, valid_logloss=2.41, valid_loss=2.42]\n"
     ]
    },
    {
     "name": "stdout",
     "output_type": "stream",
     "text": [
      "\n",
      "BEST VALID LOSS : 2.42457\n"
     ]
    },
    {
     "name": "stderr",
     "output_type": "stream",
     "text": [
      "100%|██████████| 24/24 [00:01<00:00, 22.88batch/s, train_acc=0.0725, train_logloss=2.4, train_loss=2.3]   \n",
      "Valid Epoch 75: 100%|██████████| 2/2 [00:00<00:00, 27.46batch/s, valid_acc=0.00781, valid_logloss=2.41, valid_loss=2.42]\n"
     ]
    },
    {
     "name": "stdout",
     "output_type": "stream",
     "text": [
      "\n",
      "BEST VALID LOSS : 2.42372\n"
     ]
    },
    {
     "name": "stderr",
     "output_type": "stream",
     "text": [
      "100%|██████████| 24/24 [00:01<00:00, 22.93batch/s, train_acc=0.102, train_logloss=2.4, train_loss=2.3]    \n",
      "Valid Epoch 76: 100%|██████████| 2/2 [00:00<00:00, 28.67batch/s, valid_acc=0.00781, valid_logloss=2.41, valid_loss=2.42]\n",
      "100%|██████████| 24/24 [00:01<00:00, 22.90batch/s, train_acc=0.108, train_logloss=2.41, train_loss=2.3]   \n",
      "Valid Epoch 77: 100%|██████████| 2/2 [00:00<00:00, 27.92batch/s, valid_acc=0.00781, valid_logloss=2.41, valid_loss=2.42]\n"
     ]
    },
    {
     "name": "stdout",
     "output_type": "stream",
     "text": [
      "\n",
      "BEST VALID LOSS : 2.42259\n"
     ]
    },
    {
     "name": "stderr",
     "output_type": "stream",
     "text": [
      "100%|██████████| 24/24 [00:01<00:00, 22.69batch/s, train_acc=0.106, train_logloss=2.41, train_loss=2.29] \n",
      "Valid Epoch 78: 100%|██████████| 2/2 [00:00<00:00, 27.84batch/s, valid_acc=0.00781, valid_logloss=2.41, valid_loss=2.42]\n"
     ]
    },
    {
     "name": "stdout",
     "output_type": "stream",
     "text": [
      "\n",
      "BEST VALID LOSS : 2.42197\n"
     ]
    },
    {
     "name": "stderr",
     "output_type": "stream",
     "text": [
      "100%|██████████| 24/24 [00:01<00:00, 22.86batch/s, train_acc=0.106, train_logloss=2.41, train_loss=2.29] \n",
      "Valid Epoch 79: 100%|██████████| 2/2 [00:00<00:00, 27.36batch/s, valid_acc=0.00781, valid_logloss=2.41, valid_loss=2.42]\n"
     ]
    },
    {
     "name": "stdout",
     "output_type": "stream",
     "text": [
      "\n",
      "BEST VALID LOSS : 2.42135\n"
     ]
    },
    {
     "name": "stderr",
     "output_type": "stream",
     "text": [
      "100%|██████████| 24/24 [00:01<00:00, 22.81batch/s, train_acc=0.106, train_logloss=2.4, train_loss=2.28]  \n",
      "Valid Epoch 80: 100%|██████████| 2/2 [00:00<00:00, 26.39batch/s, valid_acc=0.00781, valid_logloss=2.41, valid_loss=2.42]\n"
     ]
    },
    {
     "name": "stdout",
     "output_type": "stream",
     "text": [
      "\n",
      "BEST VALID LOSS : 2.42130\n"
     ]
    },
    {
     "name": "stderr",
     "output_type": "stream",
     "text": [
      "100%|██████████| 24/24 [00:01<00:00, 22.79batch/s, train_acc=0.106, train_logloss=2.4, train_loss=2.29]  \n",
      "Valid Epoch 81: 100%|██████████| 2/2 [00:00<00:00, 27.57batch/s, valid_acc=0.00781, valid_logloss=2.41, valid_loss=2.42]\n"
     ]
    },
    {
     "name": "stdout",
     "output_type": "stream",
     "text": [
      "\n",
      "BEST VALID LOSS : 2.42122\n"
     ]
    },
    {
     "name": "stderr",
     "output_type": "stream",
     "text": [
      "100%|██████████| 24/24 [00:01<00:00, 22.44batch/s, train_acc=0.106, train_logloss=2.4, train_loss=2.29]  \n",
      "Valid Epoch 82: 100%|██████████| 2/2 [00:00<00:00, 27.95batch/s, valid_acc=0.00781, valid_logloss=2.41, valid_loss=2.42]\n"
     ]
    },
    {
     "name": "stdout",
     "output_type": "stream",
     "text": [
      "\n",
      "BEST VALID LOSS : 2.42111\n"
     ]
    },
    {
     "name": "stderr",
     "output_type": "stream",
     "text": [
      "100%|██████████| 24/24 [00:01<00:00, 22.58batch/s, train_acc=0.106, train_logloss=2.4, train_loss=2.28]  \n",
      "Valid Epoch 83: 100%|██████████| 2/2 [00:00<00:00, 27.92batch/s, valid_acc=0.00781, valid_logloss=2.41, valid_loss=2.42]\n"
     ]
    },
    {
     "name": "stdout",
     "output_type": "stream",
     "text": [
      "\n",
      "BEST VALID LOSS : 2.42093\n"
     ]
    },
    {
     "name": "stderr",
     "output_type": "stream",
     "text": [
      "100%|██████████| 24/24 [00:01<00:00, 22.41batch/s, train_acc=0.106, train_logloss=2.4, train_loss=2.29]  \n",
      "Valid Epoch 84: 100%|██████████| 2/2 [00:00<00:00, 28.62batch/s, valid_acc=0.00781, valid_logloss=2.41, valid_loss=2.42]\n"
     ]
    },
    {
     "name": "stdout",
     "output_type": "stream",
     "text": [
      "\n",
      "BEST VALID LOSS : 2.42082\n"
     ]
    },
    {
     "name": "stderr",
     "output_type": "stream",
     "text": [
      "100%|██████████| 24/24 [00:01<00:00, 22.85batch/s, train_acc=0.106, train_logloss=2.4, train_loss=2.28]  \n",
      "Valid Epoch 85: 100%|██████████| 2/2 [00:00<00:00, 27.07batch/s, valid_acc=0.00781, valid_logloss=2.41, valid_loss=2.42]\n"
     ]
    },
    {
     "name": "stdout",
     "output_type": "stream",
     "text": [
      "\n",
      "BEST VALID LOSS : 2.42022\n"
     ]
    },
    {
     "name": "stderr",
     "output_type": "stream",
     "text": [
      "100%|██████████| 24/24 [00:01<00:00, 22.54batch/s, train_acc=0.106, train_logloss=2.4, train_loss=2.28]  \n",
      "Valid Epoch 86: 100%|██████████| 2/2 [00:00<00:00, 27.15batch/s, valid_acc=0.00781, valid_logloss=2.41, valid_loss=2.42]\n"
     ]
    },
    {
     "name": "stdout",
     "output_type": "stream",
     "text": [
      "\n",
      "BEST VALID LOSS : 2.41973\n"
     ]
    },
    {
     "name": "stderr",
     "output_type": "stream",
     "text": [
      "100%|██████████| 24/24 [00:01<00:00, 21.54batch/s, train_acc=0.106, train_logloss=2.41, train_loss=2.28] \n",
      "Valid Epoch 87: 100%|██████████| 2/2 [00:00<00:00, 27.69batch/s, valid_acc=0.00781, valid_logloss=2.41, valid_loss=2.42]\n"
     ]
    },
    {
     "name": "stdout",
     "output_type": "stream",
     "text": [
      "\n",
      "BEST VALID LOSS : 2.41937\n"
     ]
    },
    {
     "name": "stderr",
     "output_type": "stream",
     "text": [
      "100%|██████████| 24/24 [00:01<00:00, 22.61batch/s, train_acc=0.106, train_logloss=2.41, train_loss=2.28] \n",
      "Valid Epoch 88: 100%|██████████| 2/2 [00:00<00:00, 27.42batch/s, valid_acc=0.00781, valid_logloss=2.41, valid_loss=2.42]\n"
     ]
    },
    {
     "name": "stdout",
     "output_type": "stream",
     "text": [
      "\n",
      "BEST VALID LOSS : 2.41847\n"
     ]
    },
    {
     "name": "stderr",
     "output_type": "stream",
     "text": [
      "100%|██████████| 24/24 [00:01<00:00, 22.62batch/s, train_acc=0.106, train_logloss=2.41, train_loss=2.28] \n",
      "Valid Epoch 89: 100%|██████████| 2/2 [00:00<00:00, 27.89batch/s, valid_acc=0.00781, valid_logloss=2.41, valid_loss=2.42]\n"
     ]
    },
    {
     "name": "stdout",
     "output_type": "stream",
     "text": [
      "\n",
      "BEST VALID LOSS : 2.41809\n"
     ]
    },
    {
     "name": "stderr",
     "output_type": "stream",
     "text": [
      "100%|██████████| 24/24 [00:01<00:00, 22.63batch/s, train_acc=0.106, train_logloss=2.4, train_loss=2.27]  \n",
      "Valid Epoch 90: 100%|██████████| 2/2 [00:00<00:00, 27.18batch/s, valid_acc=0.00781, valid_logloss=2.41, valid_loss=2.42]\n"
     ]
    },
    {
     "name": "stdout",
     "output_type": "stream",
     "text": [
      "\n",
      "BEST VALID LOSS : 2.41801\n"
     ]
    },
    {
     "name": "stderr",
     "output_type": "stream",
     "text": [
      "100%|██████████| 24/24 [00:01<00:00, 22.70batch/s, train_acc=0.106, train_logloss=2.4, train_loss=2.27]  \n",
      "Valid Epoch 91: 100%|██████████| 2/2 [00:00<00:00, 27.22batch/s, valid_acc=0.00781, valid_logloss=2.41, valid_loss=2.42]\n"
     ]
    },
    {
     "name": "stdout",
     "output_type": "stream",
     "text": [
      "\n",
      "BEST VALID LOSS : 2.41787\n"
     ]
    },
    {
     "name": "stderr",
     "output_type": "stream",
     "text": [
      "100%|██████████| 24/24 [00:01<00:00, 22.76batch/s, train_acc=0.106, train_logloss=2.4, train_loss=2.27]  \n",
      "Valid Epoch 92: 100%|██████████| 2/2 [00:00<00:00, 27.22batch/s, valid_acc=0.00781, valid_logloss=2.41, valid_loss=2.42]\n"
     ]
    },
    {
     "name": "stdout",
     "output_type": "stream",
     "text": [
      "\n",
      "BEST VALID LOSS : 2.41770\n"
     ]
    },
    {
     "name": "stderr",
     "output_type": "stream",
     "text": [
      "100%|██████████| 24/24 [00:01<00:00, 22.65batch/s, train_acc=0.106, train_logloss=2.4, train_loss=2.27]  \n",
      "Valid Epoch 93: 100%|██████████| 2/2 [00:00<00:00, 27.94batch/s, valid_acc=0.00781, valid_logloss=2.41, valid_loss=2.42]\n",
      "100%|██████████| 24/24 [00:01<00:00, 22.66batch/s, train_acc=0.106, train_logloss=2.4, train_loss=2.27]  \n",
      "Valid Epoch 94: 100%|██████████| 2/2 [00:00<00:00, 27.52batch/s, valid_acc=0.00781, valid_logloss=2.41, valid_loss=2.42]\n",
      "100%|██████████| 24/24 [00:01<00:00, 22.82batch/s, train_acc=0.106, train_logloss=2.4, train_loss=2.27]  \n",
      "Valid Epoch 95: 100%|██████████| 2/2 [00:00<00:00, 23.38batch/s, valid_acc=0.00781, valid_logloss=2.41, valid_loss=2.42]\n"
     ]
    },
    {
     "name": "stdout",
     "output_type": "stream",
     "text": [
      "\n",
      "BEST VALID LOSS : 2.41736\n"
     ]
    },
    {
     "name": "stderr",
     "output_type": "stream",
     "text": [
      "100%|██████████| 24/24 [00:01<00:00, 22.53batch/s, train_acc=0.106, train_logloss=2.4, train_loss=2.27]  \n",
      "Valid Epoch 96: 100%|██████████| 2/2 [00:00<00:00, 27.26batch/s, valid_acc=0.00781, valid_logloss=2.41, valid_loss=2.42]\n"
     ]
    },
    {
     "name": "stdout",
     "output_type": "stream",
     "text": [
      "\n",
      "BEST VALID LOSS : 2.41726\n"
     ]
    },
    {
     "name": "stderr",
     "output_type": "stream",
     "text": [
      "100%|██████████| 24/24 [00:01<00:00, 22.70batch/s, train_acc=0.106, train_logloss=2.41, train_loss=2.27] \n",
      "Valid Epoch 97: 100%|██████████| 2/2 [00:00<00:00, 27.00batch/s, valid_acc=0.00781, valid_logloss=2.41, valid_loss=2.42]\n"
     ]
    },
    {
     "name": "stdout",
     "output_type": "stream",
     "text": [
      "\n",
      "BEST VALID LOSS : 2.41641\n"
     ]
    },
    {
     "name": "stderr",
     "output_type": "stream",
     "text": [
      "100%|██████████| 24/24 [00:01<00:00, 22.68batch/s, train_acc=0.106, train_logloss=2.41, train_loss=2.27] \n",
      "Valid Epoch 98: 100%|██████████| 2/2 [00:00<00:00, 27.81batch/s, valid_acc=0.00781, valid_logloss=2.41, valid_loss=2.42]\n"
     ]
    },
    {
     "name": "stdout",
     "output_type": "stream",
     "text": [
      "\n",
      "BEST VALID LOSS : 2.41536\n"
     ]
    },
    {
     "name": "stderr",
     "output_type": "stream",
     "text": [
      "100%|██████████| 24/24 [00:01<00:00, 22.48batch/s, train_acc=0.106, train_logloss=2.41, train_loss=2.27] \n",
      "Valid Epoch 99: 100%|██████████| 2/2 [00:00<00:00, 26.58batch/s, valid_acc=0.00781, valid_logloss=2.41, valid_loss=2.41]\n"
     ]
    },
    {
     "name": "stdout",
     "output_type": "stream",
     "text": [
      "\n",
      "BEST VALID LOSS : 2.41495\n"
     ]
    },
    {
     "name": "stderr",
     "output_type": "stream",
     "text": [
      "100%|██████████| 24/24 [00:01<00:00, 22.79batch/s, train_acc=0.106, train_logloss=2.4, train_loss=2.26]  \n",
      "Valid Epoch 100: 100%|██████████| 2/2 [00:00<00:00, 27.79batch/s, valid_acc=0.00781, valid_logloss=2.41, valid_loss=2.41]\n"
     ]
    },
    {
     "name": "stdout",
     "output_type": "stream",
     "text": [
      "\n",
      "BEST VALID LOSS : 2.41491\n"
     ]
    },
    {
     "name": "stderr",
     "output_type": "stream",
     "text": [
      "100%|██████████| 24/24 [00:01<00:00, 22.67batch/s, train_acc=0.106, train_logloss=2.4, train_loss=2.26]  \n",
      "Valid Epoch 101: 100%|██████████| 2/2 [00:00<00:00, 27.59batch/s, valid_acc=0.00781, valid_logloss=2.41, valid_loss=2.41]\n"
     ]
    },
    {
     "name": "stdout",
     "output_type": "stream",
     "text": [
      "\n",
      "BEST VALID LOSS : 2.41486\n"
     ]
    },
    {
     "name": "stderr",
     "output_type": "stream",
     "text": [
      "100%|██████████| 24/24 [00:01<00:00, 22.72batch/s, train_acc=0.106, train_logloss=2.4, train_loss=2.26]  \n",
      "Valid Epoch 102: 100%|██████████| 2/2 [00:00<00:00, 28.33batch/s, valid_acc=0.00781, valid_logloss=2.41, valid_loss=2.41]\n",
      "100%|██████████| 24/24 [00:01<00:00, 22.79batch/s, train_acc=0.106, train_logloss=2.4, train_loss=2.26]  \n",
      "Valid Epoch 103: 100%|██████████| 2/2 [00:00<00:00, 27.51batch/s, valid_acc=0.00781, valid_logloss=2.41, valid_loss=2.41]\n"
     ]
    },
    {
     "name": "stdout",
     "output_type": "stream",
     "text": [
      "\n",
      "BEST VALID LOSS : 2.41484\n"
     ]
    },
    {
     "name": "stderr",
     "output_type": "stream",
     "text": [
      "100%|██████████| 24/24 [00:01<00:00, 22.86batch/s, train_acc=0.106, train_logloss=2.4, train_loss=2.26]  \n",
      "Valid Epoch 104: 100%|██████████| 2/2 [00:00<00:00, 27.30batch/s, valid_acc=0.00781, valid_logloss=2.41, valid_loss=2.41]\n"
     ]
    },
    {
     "name": "stdout",
     "output_type": "stream",
     "text": [
      "\n",
      "BEST VALID LOSS : 2.41480\n"
     ]
    },
    {
     "name": "stderr",
     "output_type": "stream",
     "text": [
      "100%|██████████| 24/24 [00:01<00:00, 22.50batch/s, train_acc=0.106, train_logloss=2.4, train_loss=2.26]  \n",
      "Valid Epoch 105: 100%|██████████| 2/2 [00:00<00:00, 28.48batch/s, valid_acc=0.00781, valid_logloss=2.41, valid_loss=2.42]\n",
      "100%|██████████| 24/24 [00:01<00:00, 22.74batch/s, train_acc=0.106, train_logloss=2.4, train_loss=2.26]  \n",
      "Valid Epoch 106: 100%|██████████| 2/2 [00:00<00:00, 23.00batch/s, valid_acc=0.00781, valid_logloss=2.41, valid_loss=2.42]\n",
      "100%|██████████| 24/24 [00:01<00:00, 22.82batch/s, train_acc=0.106, train_logloss=2.41, train_loss=2.26] \n",
      "Valid Epoch 107: 100%|██████████| 2/2 [00:00<00:00, 28.25batch/s, valid_acc=0.00781, valid_logloss=2.41, valid_loss=2.41]\n"
     ]
    },
    {
     "name": "stdout",
     "output_type": "stream",
     "text": [
      "\n",
      "BEST VALID LOSS : 2.41469\n"
     ]
    },
    {
     "name": "stderr",
     "output_type": "stream",
     "text": [
      "100%|██████████| 24/24 [00:01<00:00, 22.81batch/s, train_acc=0.106, train_logloss=2.41, train_loss=2.26] \n",
      "Valid Epoch 108: 100%|██████████| 2/2 [00:00<00:00, 28.07batch/s, valid_acc=0.00781, valid_logloss=2.41, valid_loss=2.41]\n"
     ]
    },
    {
     "name": "stdout",
     "output_type": "stream",
     "text": [
      "\n",
      "BEST VALID LOSS : 2.41410\n"
     ]
    },
    {
     "name": "stderr",
     "output_type": "stream",
     "text": [
      "100%|██████████| 24/24 [00:01<00:00, 22.74batch/s, train_acc=0.106, train_logloss=2.41, train_loss=2.26] \n",
      "Valid Epoch 109: 100%|██████████| 2/2 [00:00<00:00, 28.31batch/s, valid_acc=0.00781, valid_logloss=2.41, valid_loss=2.41]\n"
     ]
    },
    {
     "name": "stdout",
     "output_type": "stream",
     "text": [
      "\n",
      "BEST VALID LOSS : 2.41328\n"
     ]
    },
    {
     "name": "stderr",
     "output_type": "stream",
     "text": [
      "100%|██████████| 24/24 [00:01<00:00, 22.83batch/s, train_acc=0.106, train_logloss=2.4, train_loss=2.26]  \n",
      "Valid Epoch 110: 100%|██████████| 2/2 [00:00<00:00, 27.55batch/s, valid_acc=0.00781, valid_logloss=2.41, valid_loss=2.41]\n",
      "100%|██████████| 24/24 [00:01<00:00, 22.70batch/s, train_acc=0.106, train_logloss=2.4, train_loss=2.26]  \n",
      "Valid Epoch 111: 100%|██████████| 2/2 [00:00<00:00, 27.91batch/s, valid_acc=0.00781, valid_logloss=2.41, valid_loss=2.41]\n",
      "100%|██████████| 24/24 [00:01<00:00, 22.35batch/s, train_acc=0.106, train_logloss=2.4, train_loss=2.26]  \n",
      "Valid Epoch 112: 100%|██████████| 2/2 [00:00<00:00, 27.63batch/s, valid_acc=0.00781, valid_logloss=2.41, valid_loss=2.41]\n"
     ]
    },
    {
     "name": "stdout",
     "output_type": "stream",
     "text": [
      "\n",
      "BEST VALID LOSS : 2.41324\n"
     ]
    },
    {
     "name": "stderr",
     "output_type": "stream",
     "text": [
      "100%|██████████| 24/24 [00:01<00:00, 22.39batch/s, train_acc=0.106, train_logloss=2.4, train_loss=2.26]  \n",
      "Valid Epoch 113: 100%|██████████| 2/2 [00:00<00:00, 28.30batch/s, valid_acc=0.00781, valid_logloss=2.41, valid_loss=2.41]\n"
     ]
    },
    {
     "name": "stdout",
     "output_type": "stream",
     "text": [
      "\n",
      "BEST VALID LOSS : 2.41295\n"
     ]
    },
    {
     "name": "stderr",
     "output_type": "stream",
     "text": [
      "100%|██████████| 24/24 [00:01<00:00, 22.65batch/s, train_acc=0.106, train_logloss=2.4, train_loss=2.26]  \n",
      "Valid Epoch 114: 100%|██████████| 2/2 [00:00<00:00, 27.85batch/s, valid_acc=0.00781, valid_logloss=2.41, valid_loss=2.41]\n",
      "100%|██████████| 24/24 [00:01<00:00, 22.39batch/s, train_acc=0.106, train_logloss=2.4, train_loss=2.26]  \n",
      "Valid Epoch 115: 100%|██████████| 2/2 [00:00<00:00, 26.62batch/s, valid_acc=0.00781, valid_logloss=2.41, valid_loss=2.41]\n",
      "100%|██████████| 24/24 [00:01<00:00, 22.59batch/s, train_acc=0.106, train_logloss=2.4, train_loss=2.26]  \n",
      "Valid Epoch 116: 100%|██████████| 2/2 [00:00<00:00, 28.69batch/s, valid_acc=0.00781, valid_logloss=2.41, valid_loss=2.41]\n"
     ]
    },
    {
     "name": "stdout",
     "output_type": "stream",
     "text": [
      "\n",
      "BEST VALID LOSS : 2.41292\n"
     ]
    },
    {
     "name": "stderr",
     "output_type": "stream",
     "text": [
      "100%|██████████| 24/24 [00:01<00:00, 22.61batch/s, train_acc=0.106, train_logloss=2.41, train_loss=2.26] \n",
      "Valid Epoch 117: 100%|██████████| 2/2 [00:00<00:00, 28.27batch/s, valid_acc=0.00781, valid_logloss=2.41, valid_loss=2.41]\n",
      "100%|██████████| 24/24 [00:01<00:00, 22.82batch/s, train_acc=0.106, train_logloss=2.41, train_loss=2.26] \n",
      "Valid Epoch 118: 100%|██████████| 2/2 [00:00<00:00, 28.30batch/s, valid_acc=0.00781, valid_logloss=2.41, valid_loss=2.41]\n",
      "100%|██████████| 24/24 [00:01<00:00, 19.97batch/s, train_acc=0.106, train_logloss=2.41, train_loss=2.26] \n",
      "Valid Epoch 119: 100%|██████████| 2/2 [00:00<00:00, 27.56batch/s, valid_acc=0.00781, valid_logloss=2.41, valid_loss=2.41]\n"
     ]
    },
    {
     "name": "stdout",
     "output_type": "stream",
     "text": [
      "\n",
      "BEST VALID LOSS : 2.41261\n"
     ]
    },
    {
     "name": "stderr",
     "output_type": "stream",
     "text": [
      "100%|██████████| 24/24 [00:01<00:00, 22.79batch/s, train_acc=0.106, train_logloss=2.4, train_loss=2.25]  \n",
      "Valid Epoch 120: 100%|██████████| 2/2 [00:00<00:00, 28.08batch/s, valid_acc=0.00781, valid_logloss=2.41, valid_loss=2.41]\n",
      "100%|██████████| 24/24 [00:01<00:00, 22.84batch/s, train_acc=0.106, train_logloss=2.4, train_loss=2.25]  \n",
      "Valid Epoch 121: 100%|██████████| 2/2 [00:00<00:00, 27.35batch/s, valid_acc=0.00781, valid_logloss=2.41, valid_loss=2.41]\n"
     ]
    },
    {
     "name": "stdout",
     "output_type": "stream",
     "text": [
      "\n",
      "BEST VALID LOSS : 2.41261\n"
     ]
    },
    {
     "name": "stderr",
     "output_type": "stream",
     "text": [
      "100%|██████████| 24/24 [00:01<00:00, 22.84batch/s, train_acc=0.106, train_logloss=2.4, train_loss=2.25]  \n",
      "Valid Epoch 122: 100%|██████████| 2/2 [00:00<00:00, 27.98batch/s, valid_acc=0.00781, valid_logloss=2.41, valid_loss=2.41]\n",
      "100%|██████████| 24/24 [00:01<00:00, 22.90batch/s, train_acc=0.106, train_logloss=2.4, train_loss=2.25]  \n",
      "Valid Epoch 123: 100%|██████████| 2/2 [00:00<00:00, 27.77batch/s, valid_acc=0.00781, valid_logloss=2.41, valid_loss=2.41]\n",
      "100%|██████████| 24/24 [00:01<00:00, 22.72batch/s, train_acc=0.106, train_logloss=2.4, train_loss=2.25]  \n",
      "Valid Epoch 124: 100%|██████████| 2/2 [00:00<00:00, 27.65batch/s, valid_acc=0.00781, valid_logloss=2.41, valid_loss=2.41]\n",
      "100%|██████████| 24/24 [00:01<00:00, 22.75batch/s, train_acc=0.106, train_logloss=2.4, train_loss=2.26]  \n",
      "Valid Epoch 125: 100%|██████████| 2/2 [00:00<00:00, 26.81batch/s, valid_acc=0.00781, valid_logloss=2.41, valid_loss=2.41]\n",
      "100%|██████████| 24/24 [00:01<00:00, 22.70batch/s, train_acc=0.106, train_logloss=2.4, train_loss=2.26]  \n",
      "Valid Epoch 126: 100%|██████████| 2/2 [00:00<00:00, 27.40batch/s, valid_acc=0.00781, valid_logloss=2.41, valid_loss=2.41]\n",
      "100%|██████████| 24/24 [00:01<00:00, 22.77batch/s, train_acc=0.106, train_logloss=2.41, train_loss=2.25] \n",
      "Valid Epoch 127: 100%|██████████| 2/2 [00:00<00:00, 27.38batch/s, valid_acc=0.00781, valid_logloss=2.41, valid_loss=2.41]\n",
      "100%|██████████| 24/24 [00:01<00:00, 22.82batch/s, train_acc=0.106, train_logloss=2.41, train_loss=2.26] \n",
      "Valid Epoch 128: 100%|██████████| 2/2 [00:00<00:00, 27.58batch/s, valid_acc=0.00781, valid_logloss=2.41, valid_loss=2.41]\n",
      "100%|██████████| 24/24 [00:01<00:00, 22.77batch/s, train_acc=0.106, train_logloss=2.41, train_loss=2.26] \n",
      "Valid Epoch 129: 100%|██████████| 2/2 [00:00<00:00, 28.32batch/s, valid_acc=0.00781, valid_logloss=2.41, valid_loss=2.41]\n",
      "100%|██████████| 24/24 [00:01<00:00, 22.85batch/s, train_acc=0.106, train_logloss=2.4, train_loss=2.25]  \n",
      "Valid Epoch 130: 100%|██████████| 2/2 [00:00<00:00, 28.33batch/s, valid_acc=0.00781, valid_logloss=2.41, valid_loss=2.41]\n",
      "100%|██████████| 24/24 [00:01<00:00, 22.88batch/s, train_acc=0.106, train_logloss=2.4, train_loss=2.25]  \n",
      "Valid Epoch 131: 100%|██████████| 2/2 [00:00<00:00, 27.82batch/s, valid_acc=0.00781, valid_logloss=2.41, valid_loss=2.41]"
     ]
    },
    {
     "name": "stdout",
     "output_type": "stream",
     "text": [
      "\n",
      "EARLY_STOPPING!!\n"
     ]
    },
    {
     "name": "stderr",
     "output_type": "stream",
     "text": [
      "\n"
     ]
    }
   ],
   "source": [
    "# transfer learning\n",
    "\n",
    "transferred_best_models = []\n",
    "\n",
    "EARLY_STOPPING_EPOCH = 10\n",
    "\n",
    "softmax = torch.nn.Softmax(-1)\n",
    "\n",
    "optimizer = optim.Adam(trans_model.parameters(), lr=lr)\n",
    "lr_sched = torch.optim.lr_scheduler.CosineAnnealingWarmRestarts(optimizer, T_0=10, T_mult=1, eta_min=0.001, last_epoch=-1)\n",
    "criterion = nn.CrossEntropyLoss()\n",
    "\n",
    "valid_acc_max = 0\n",
    "valid_early_stop = 0\n",
    "valid_best_loss = float('inf')\n",
    "\n",
    "for epoch in range(epochs):\n",
    "    train_acc_list = []\n",
    "    train_logloss_list = []\n",
    "    with tqdm(dataset1_train_dataloader, total=dataset1_train_dataloader.__len__(), unit=\"batch\") as train_bar:\n",
    "        for sample in train_bar:\n",
    "            optimizer.zero_grad()\n",
    "\n",
    "            datas, labels = sample\n",
    "            datas = datas.to(device)\n",
    "            labels = labels.to(dtype=torch.long).to(device)\n",
    "            trans_model.train()\n",
    "            with torch.set_grad_enabled(True):\n",
    "                outputs = trans_model(datas)\n",
    "                loss = criterion(outputs, labels)\n",
    "\n",
    "                loss.backward()\n",
    "                optimizer.step()\n",
    "                \n",
    "                # log loss\n",
    "                probs = softmax(outputs)\n",
    "                refs = labels.cpu().detach().clone().numpy()\n",
    "                probs = probs.cpu().detach().clone().numpy()\n",
    "                logloss = log_loss(refs, probs, labels = np.arange(0,11))\n",
    "                train_logloss_list.append(logloss)\n",
    "                train_logloss = np.mean(train_logloss_list)\n",
    "\n",
    "                preds = torch.argmax(outputs, dim = 1)\n",
    "                preds = preds.cpu().detach().numpy()\n",
    "                refs = labels.cpu().detach().numpy()\n",
    "                batch_acc = (refs == preds).mean()\n",
    "                train_acc_list.append(batch_acc)\n",
    "                train_acc = np.mean(train_acc_list)\n",
    "                \n",
    "            train_bar.set_postfix(train_loss= loss.item(), train_acc = train_acc, train_logloss = train_logloss)\n",
    "            \n",
    "       \n",
    "    valid_acc_list = []\n",
    "    valid_logloss_list = []\n",
    "    with tqdm(dataset1_val_dataloader, total=dataset1_val_dataloader.__len__(), unit=\"batch\") as valid_bar:\n",
    "        for sample in valid_bar:\n",
    "            valid_bar.set_description(f\"Valid Epoch {epoch}\")\n",
    "            optimizer.zero_grad()\n",
    "            datas, labels = sample\n",
    "            datas = datas.to(device)\n",
    "            labels = labels.to(dtype=torch.long).to(device)\n",
    "\n",
    "            trans_model.eval()\n",
    "\n",
    "            with torch.no_grad():\n",
    "                outputs = trans_model(datas) # bsz, nlabel\n",
    "                loss = criterion(outputs, labels)\n",
    "\n",
    "                # log loss\n",
    "                probs = softmax(outputs)\n",
    "                refs = labels.cpu().detach().clone().numpy()\n",
    "                probs = probs.cpu().detach().clone().numpy()\n",
    "                logloss = log_loss(refs, probs, labels = np.arange(0,11))\n",
    "                valid_logloss_list.append(logloss)\n",
    "                valid_logloss = np.mean(valid_logloss_list)\n",
    "\n",
    "                preds = torch.argmax(outputs, dim = 1)\n",
    "                preds = preds.cpu().detach().numpy()\n",
    "                refs = labels.cpu().detach().numpy()\n",
    "                batch_acc = (refs == preds).mean()\n",
    "                valid_acc_list.append(batch_acc)\n",
    "                valid_acc = np.mean(valid_acc_list)\n",
    "\n",
    "            valid_bar.set_postfix(valid_loss= loss.item(), valid_acc = valid_acc, valid_logloss = valid_logloss)\n",
    "            \n",
    "    # early stopping\n",
    "    if loss.item() < valid_best_loss:\n",
    "        print(f\"\\nBEST VALID LOSS : {loss.item():.5f}\")\n",
    "        valid_best_loss = loss.item()\n",
    "        valid_early_stop = 0\n",
    "    else:\n",
    "        valid_early_stop += 1\n",
    "        if valid_early_stop >= EARLY_STOPPING_EPOCH:\n",
    "            print(\"\\nEARLY_STOPPING!!\")\n",
    "            break\n",
    "            \n",
    "    lr_sched.step()\n",
    "    \n",
    "    if valid_acc_max < valid_acc:\n",
    "        valid_acc_max = valid_acc\n",
    "        transferred_best_model = trans_model\n",
    "        torch.save(transferred_best_model.state_dict(), f'./transferred_best_model_freeze.pth')\n",
    "\n",
    "    transferred_best_models.append(transferred_best_model)"
   ]
  },
  {
   "cell_type": "code",
   "execution_count": 282,
   "id": "d12a797b",
   "metadata": {},
   "outputs": [],
   "source": [
    "submission_sample = pd.read_csv('submission_sample.csv', index_col = 0)\n",
    "\n",
    "# dataset1의 test 데이터를 사용한 일반화 성능 확인\n",
    "\n",
    "optimizer = optim.Adam(transferred_best_models[-1].parameters(), lr=lr)\n",
    "lr_sched = torch.optim.lr_scheduler.CosineAnnealingWarmRestarts(optimizer, T_0=10, T_mult=1, eta_min=0.001, last_epoch=-1)\n",
    "criterion = nn.CrossEntropyLoss()\n",
    "\n",
    "# 가장 최근 모델로 예측\n",
    "for i, model in enumerate(transferred_best_models[-1:]):\n",
    "\n",
    "    model.eval()\n",
    "    predicted = []\n",
    "    with torch.no_grad():\n",
    "        for idx, x in enumerate(dataset1_test_dataloader):\n",
    "            x = x[0].to(device)\n",
    "\n",
    "            optimizer.zero_grad()\n",
    "            output = model(x.float())\n",
    "\n",
    "            _, preds = torch.max(output, 1)\n",
    "            predicted.extend(preds.cpu().numpy())\n",
    "        torch.cuda.empty_cache()\n",
    "        \n",
    "    timestr = time.strftime(\"%Y%m%d-%H%M%S\")\n",
    "    pd_preds = pd.DataFrame(predicted, columns=['predicted value'], index=submission_sample.index.copy())\n",
    "    pd_preds['predicted value'] = 'class' + pd_preds['predicted value'].astype(str)\n",
    "    pd_preds.to_csv(f'submission_{timestr}.csv')"
   ]
  }
 ],
 "metadata": {
  "kernelspec": {
   "display_name": "Python 3 (ipykernel)",
   "language": "python",
   "name": "python3"
  },
  "language_info": {
   "codemirror_mode": {
    "name": "ipython",
    "version": 3
   },
   "file_extension": ".py",
   "mimetype": "text/x-python",
   "name": "python",
   "nbconvert_exporter": "python",
   "pygments_lexer": "ipython3",
   "version": "3.7.6"
  }
 },
 "nbformat": 4,
 "nbformat_minor": 5
}
